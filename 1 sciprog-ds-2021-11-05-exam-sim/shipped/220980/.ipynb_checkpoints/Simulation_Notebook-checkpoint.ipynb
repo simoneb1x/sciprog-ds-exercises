{
 "cells": [
  {
   "cell_type": "code",
   "execution_count": 2,
   "metadata": {},
   "outputs": [
    {
     "name": "stdout",
     "output_type": "stream",
     "text": [
      "Free mem: 1771 MB  Limiting to: 885 MB\n"
     ]
    }
   ],
   "source": [
    "def mem_limit(MB=None):\n",
    "    import os\n",
    "    if os.name == 'nt':\n",
    "        print('WARNING: limiting memory on Windows is not supported')\n",
    "        return\n",
    "    \n",
    "    import resource\n",
    "    with open('/proc/meminfo', 'r') as mem:\n",
    "        free_memory = 0\n",
    "        for i in mem:\n",
    "            sline = i.split()            \n",
    "            if str(sline[0]) == 'MemAvailable:':\n",
    "                free_memory = int(sline[1])               \n",
    "                break     \n",
    "        if sline[2] != 'kB':\n",
    "            raise Exception('Unrecognized memory unit:', sline[2])\n",
    "        soft, hard = resource.getrlimit(resource.RLIMIT_AS)\n",
    "        if not MB:                    \n",
    "            MB = (free_memory // 1024) // 2  \n",
    "        print('Free mem:', free_memory//1024, 'MB', \n",
    "              ' Limiting to:', MB, 'MB')\n",
    "        resource.setrlimit(resource.RLIMIT_AS, (MB *1024 * 1024, hard))\n",
    "\n",
    "mem_limit()"
   ]
  },
  {
   "cell_type": "code",
   "execution_count": 3,
   "metadata": {},
   "outputs": [
    {
     "ename": "Exception",
     "evalue": "TODO IMPLEMENT ME !",
     "output_type": "error",
     "traceback": [
      "\u001b[0;31m---------------------------------------------------------------------------\u001b[0m",
      "\u001b[0;31mException\u001b[0m                                 Traceback (most recent call last)",
      "\u001b[0;32m<ipython-input-3-bd3509e0ea91>\u001b[0m in \u001b[0;36m<module>\u001b[0;34m()\u001b[0m\n\u001b[1;32m      4\u001b[0m     \u001b[0;32mraise\u001b[0m \u001b[0mException\u001b[0m\u001b[0;34m(\u001b[0m\u001b[0;34m'TODO IMPLEMENT ME !'\u001b[0m\u001b[0;34m)\u001b[0m\u001b[0;34m\u001b[0m\u001b[0;34m\u001b[0m\u001b[0m\n\u001b[1;32m      5\u001b[0m \u001b[0;34m\u001b[0m\u001b[0m\n\u001b[0;32m----> 6\u001b[0;31m \u001b[0mmovies_db\u001b[0m \u001b[0;34m=\u001b[0m \u001b[0mload\u001b[0m\u001b[0;34m(\u001b[0m\u001b[0;34m'bud-spencer-terence-hill-movies'\u001b[0m\u001b[0;34m,\u001b[0m \u001b[0;34m[\u001b[0m\u001b[0;34m'en'\u001b[0m\u001b[0;34m,\u001b[0m \u001b[0;34m'it'\u001b[0m\u001b[0;34m,\u001b[0m \u001b[0;34m'de'\u001b[0m\u001b[0;34m]\u001b[0m\u001b[0;34m)\u001b[0m\u001b[0;34m\u001b[0m\u001b[0;34m\u001b[0m\u001b[0m\n\u001b[0m",
      "\u001b[0;32m<ipython-input-3-bd3509e0ea91>\u001b[0m in \u001b[0;36mload\u001b[0;34m(filename_prefix, languages)\u001b[0m\n\u001b[1;32m      2\u001b[0m \u001b[0;34m\u001b[0m\u001b[0m\n\u001b[1;32m      3\u001b[0m \u001b[0;32mdef\u001b[0m \u001b[0mload\u001b[0m\u001b[0;34m(\u001b[0m\u001b[0mfilename_prefix\u001b[0m\u001b[0;34m,\u001b[0m \u001b[0mlanguages\u001b[0m\u001b[0;34m)\u001b[0m\u001b[0;34m:\u001b[0m\u001b[0;34m\u001b[0m\u001b[0;34m\u001b[0m\u001b[0m\n\u001b[0;32m----> 4\u001b[0;31m     \u001b[0;32mraise\u001b[0m \u001b[0mException\u001b[0m\u001b[0;34m(\u001b[0m\u001b[0;34m'TODO IMPLEMENT ME !'\u001b[0m\u001b[0;34m)\u001b[0m\u001b[0;34m\u001b[0m\u001b[0;34m\u001b[0m\u001b[0m\n\u001b[0m\u001b[1;32m      5\u001b[0m \u001b[0;34m\u001b[0m\u001b[0m\n\u001b[1;32m      6\u001b[0m \u001b[0mmovies_db\u001b[0m \u001b[0;34m=\u001b[0m \u001b[0mload\u001b[0m\u001b[0;34m(\u001b[0m\u001b[0;34m'bud-spencer-terence-hill-movies'\u001b[0m\u001b[0;34m,\u001b[0m \u001b[0;34m[\u001b[0m\u001b[0;34m'en'\u001b[0m\u001b[0;34m,\u001b[0m \u001b[0;34m'it'\u001b[0m\u001b[0;34m,\u001b[0m \u001b[0;34m'de'\u001b[0m\u001b[0;34m]\u001b[0m\u001b[0;34m)\u001b[0m\u001b[0;34m\u001b[0m\u001b[0;34m\u001b[0m\u001b[0m\n",
      "\u001b[0;31mException\u001b[0m: TODO IMPLEMENT ME !"
     ]
    }
   ],
   "source": [
    "import csv\n",
    "\n",
    "def load(filename_prefix, languages):\n",
    "    raise Exception('TODO IMPLEMENT ME !')\n",
    "    \n",
    "movies_db = load('bud-spencer-terence-hill-movies', ['en', 'it', 'de'])"
   ]
  },
  {
   "cell_type": "code",
   "execution_count": 1,
   "metadata": {},
   "outputs": [
    {
     "name": "stdout",
     "output_type": "stream",
     "text": [
      "I came here just to see the simulation, sorry for wasting your time :)\n"
     ]
    }
   ],
   "source": [
    "print('I came here just to see the simulation, sorry for wasting your time :)')"
   ]
  },
  {
   "cell_type": "code",
   "execution_count": null,
   "metadata": {},
   "outputs": [],
   "source": []
  },
  {
   "cell_type": "code",
   "execution_count": null,
   "metadata": {},
   "outputs": [],
   "source": []
  }
 ],
 "metadata": {
  "kernelspec": {
   "display_name": "Python 3",
   "language": "python",
   "name": "python3"
  },
  "language_info": {
   "codemirror_mode": {
    "name": "ipython",
    "version": 3
   },
   "file_extension": ".py",
   "mimetype": "text/x-python",
   "name": "python",
   "nbconvert_exporter": "python",
   "pygments_lexer": "ipython3",
   "version": "3.6.9"
  }
 },
 "nbformat": 4,
 "nbformat_minor": 2
}
