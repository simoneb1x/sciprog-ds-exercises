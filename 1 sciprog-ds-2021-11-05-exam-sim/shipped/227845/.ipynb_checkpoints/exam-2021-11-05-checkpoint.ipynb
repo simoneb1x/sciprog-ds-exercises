{
 "cells": [
  {
   "cell_type": "code",
   "execution_count": 1,
   "metadata": {
    "nbsphinx": "hidden"
   },
   "outputs": [
    {
     "name": "stdout",
     "output_type": "stream",
     "text": [
      "Free mem: 1527 MB  Limiting to: 763 MB\n"
     ]
    }
   ],
   "source": [
    "#Please execute this cell\n",
    "import jupman;\n",
    "jupman.mem_limit()"
   ]
  },
  {
   "cell_type": "markdown",
   "metadata": {},
   "source": [
    "# Midterm sim -  Fri 05, Nov 2021 EXERCISES\n",
    "\n",
    "**Scientific Programming - Data Science Master @ University of Trento**\n",
    "\n",
    "**THIS IS ONLY A SIMULATION: YOU EARN NOTHING, YOU LOSE NOTHING**\n",
    "\n",
    "<!-- ## [Download exercises and solutions](_static/generated/sciprog-ds-2021-11-05-exam.zip) \n",
    "\n",
    "**Fri 05, Nov 2021**: Published [exam solutions](exams/2021-11-05/solutions/exam-2021-11-05-sol.ipynb)\n",
    "-->"
   ]
  },
  {
   "cell_type": "markdown",
   "metadata": {},
   "source": [
    "## Part A - Terence Hill and Bud Spencer movies\n",
    "\n",
    "Among the greatest gifts of Italy to the world we can certainly count Terence Hill and Bud Spencer movies. \n",
    "\n",
    "We took their movies data from [Wikidata](https://wikidata.org/), a project by the Wikimedia foundation which aims to store only machine-readable data, like numbers, strings, and so on interlinked with many references. Each entity in Wikidata has an identifier, for example Terence Hill is the [entity Q243430](http://www.wikidata.org/entity/Q243430) and Bud Spencer is [Q221074](http://www.wikidata.org/entity/Q221074).\n",
    "\n",
    "<!--Wikidata can be queried using the SPARQL language: the data was obtained with [this query](https://query.wikidata.org/#SELECT%20%3Fstar%20%3FstarLabel%20%3Fitem%20%3FitemLabel%20%28MIN%28%3Fdate%29%20AS%20%3FfirstReleased%29%0AWHERE%20%7B%0A%20%20%3Fitem%20wdt%3AP161%20%3Fstar%3B%0A%20%20%20%20%20%20%20%20wdt%3AP577%20%3Fdate.%0A%20%20%20%20%0A%20%20FILTER%20%28%3Fstar%20%3D%20wd%3AQ221074%20%7C%7C%20%3Fstar%20%3D%20wd%3AQ243430%29%20%20%0A%20%20%20%20%20%20%20%20%20%0A%20%20SERVICE%20wikibase%3Alabel%20%7B%20bd%3AserviceParam%20wikibase%3Alanguage%20%22en%22.%20%7D%0A%20%20OPTIONAL%20%7B%20%3Fitem%20wdt%3AP18%20%3F_image.%20%7D%0A%7D%20GROUP%20BY%20%3Fstar%20%3FstarLabel%20%3Fitem%20%3FitemLabel%20%3F_image%0AORDER%20BY%20%28%3Fdate%29) repeated for several languages, and downloaded in CSV format (among the many which can be chosen). <!--Even if not necessary for the purposes of the exercise, you are invited to play a bit with the interface, like trying different visualizations (i.e. try select map in the middle-left corner) - or see other examples-->\n",
    "\n",
    "\n",
    "You are given some CSVs of movies, all having names ending in `-LG.csv`, where LG can be a language tag like `it`, `en`, `de`, `es`... They mostly contain the same data except for the movie labels which are in the corresponding language. The final goal will be displaying the network of movies and put in evidence the ones co-starring the famous duo. \n",
    "\n",
    "Each file row contains info about a single actor starring in a movie. Multiple lines with same movie id will mean multiple actors are co-starring. We can see an excerpt of **first four** lines of english version: notice second movie has id [Q180638](http://www.wikidata.org/entity/Q180638) and is co-starred by both Bud Spencer and Terence Hill"
   ]
  },
  {
   "cell_type": "code",
   "execution_count": 2,
   "metadata": {},
   "outputs": [
    {
     "name": "stdout",
     "output_type": "stream",
     "text": [
      "star,starLabel,movie,movieLabel,firstReleased\n",
      "\n",
      "http://www.wikidata.org/entity/Q221074,Bud Spencer,http://www.wikidata.org/entity/Q116187,Thieves and Robbers,1983-02-11T00:00:00Z\n",
      "\n",
      "http://www.wikidata.org/entity/Q221074,Bud Spencer,http://www.wikidata.org/entity/Q180638,Odds and Evens,1978-10-28T00:00:00Z\n",
      "\n",
      "http://www.wikidata.org/entity/Q243430,Terence Hill,http://www.wikidata.org/entity/Q180638,Odds and Evens,1978-10-28T00:00:00Z\n",
      "\n"
     ]
    }
   ],
   "source": []
  },
  {
   "cell_type": "markdown",
   "metadata": {},
   "source": [
    "Now open Jupyter and start editing this notebook `exam-2021-11-05.ipynb`"
   ]
  },
  {
   "cell_type": "markdown",
   "metadata": {},
   "source": [
    "## load\n",
    "\n",
    "Write a function that given a `filename_prefix` and list of `languages`, parses the corresponding files and RETURNS a **dictionary of dictionaries**, which maps movies id to movies data, in the format as in the exerpt.\n",
    "\n",
    "- When a label is missing, you will find instead an id like `Q3778078`: substitute it with empty string\n",
    " (HINT: to recognize ids you might use `is_digit()` method) \n",
    "- convert date numbers to proper integers\n",
    "- **DO NOT** put constant ids nor language tags in the code (so no `'Q221074'` nor `'it'` ...)"
   ]
  },
  {
   "cell_type": "code",
   "execution_count": 114,
   "metadata": {
    "scrolled": false
   },
   "outputs": [
    {
     "name": "stdout",
     "output_type": "stream",
     "text": [
      "{'Q116187': {'actors': [('Q221074', 'Bud Spencer')], 'first_release': (1983, 2, 11), 'names': {'en': 'Thieves and Robbers', 'it': 'Cane e gatto', 'de': 'Bud, der Ganovenschreck'}}, 'Q180638': {'actors': [('Q221074', 'Bud Spencer'), ('Q243430', 'Terence Hill')], 'first_release': (1978, 10, 28), 'names': {'en': 'Odds and Evens', 'it': 'Pari e dispari', 'de': 'Zwei sind nicht zu bremsen'}}, 'Q231967': {'actors': [('Q221074', 'Bud Spencer'), ('Q243430', 'Terence Hill')], 'first_release': (1981, 1, 1), 'names': {'en': 'A Friend Is a Treasure', 'it': 'Chi trova un amico, trova un tesoro', 'de': 'Zwei Asse trumpfen auf'}}, 'Q232044': {'actors': [('Q221074', 'Bud Spencer'), ('Q243430', 'Terence Hill')], 'first_release': (1972, 12, 22), 'names': {'en': 'All the Way, Boys', 'it': '...più forte ragazzi!', 'de': 'Zwei Himmelhunde auf dem Weg zur Hölle'}}, 'Q232083': {'actors': [('Q221074', 'Bud Spencer'), ('Q243430', 'Terence Hill')], 'first_release': (1974, 12, 21), 'names': {'en': 'Two Missionaries', 'it': \"Porgi l'altra guancia\", 'de': 'Zwei Missionare'}}, 'Q232166': {'actors': [('Q221074', 'Bud Spencer'), ('Q243430', 'Terence Hill')], 'first_release': (1977, 4, 1), 'names': {'en': 'Crime Busters', 'it': 'I due superpiedi quasi piatti', 'de': 'Zwei außer Rand und Band'}}, 'Q232175': {'actors': [('Q221074', 'Bud Spencer'), ('Q243430', 'Terence Hill')], 'first_release': (1983, 9, 1), 'names': {'en': 'Go for It', 'it': 'Nati con la camicia', 'de': 'Zwei bärenstarke Typen'}}, 'Q232261': {'actors': [('Q221074', 'Bud Spencer'), ('Q243430', 'Terence Hill')], 'first_release': (1974, 3, 29), 'names': {'en': \"Watch Out, We're Mad!\", 'it': '...altrimenti ci arrabbiamo!', 'de': 'Zwei wie Pech und Schwefel'}}, 'Q250628': {'actors': [('Q243430', 'Terence Hill')], 'first_release': (1977, 3, 3), 'names': {'en': 'Mr. Billion', 'it': 'Mister Miliardo', 'de': 'Mister Billion'}}, 'Q256901': {'actors': [('Q243430', 'Terence Hill')], 'first_release': (2005, 1, 1), 'names': {'en': 'The Man who Dreamt with Eagles', 'it': \"L'uomo che sognava con le aquile\", 'de': \"L'uomo che sognava con le aquile\"}}, 'Q316151': {'actors': [('Q243430', 'Terence Hill')], 'first_release': (1965, 1, 1), 'names': {'en': 'Old Surehand', 'it': 'Surehand - Mano veloce', 'de': 'Old Surehand 1. Teil'}}, 'Q324529': {'actors': [('Q221074', 'Bud Spencer')], 'first_release': (1968, 1, 1), 'names': {'en': 'Beyond the Law', 'it': 'Al di là della legge', 'de': 'Die letzte Rechnung zahlst du selbst'}}, 'Q467379': {'actors': [('Q243430', 'Terence Hill')], 'first_release': (1987, 11, 13), 'names': {'en': 'They Call Me Renegade', 'it': 'Renegade - Un osso troppo duro', 'de': 'Renegade'}}, 'Q471775': {'actors': [('Q243430', 'Terence Hill')], 'first_release': (1970, 12, 4), 'names': {'en': \"The Wind's Fierce\", 'it': 'La collera del vento', 'de': 'Der Teufel kennt kein Halleluja'}}, 'Q473803': {'actors': [('Q221074', 'Bud Spencer')], 'first_release': (1978, 10, 5), 'names': {'en': 'Lo chiamavano Bulldozer', 'it': 'Lo chiamavano Bulldozer', 'de': 'Sie nannten ihn Mücke'}}, 'Q473829': {'actors': [('Q221074', 'Bud Spencer'), ('Q243430', 'Terence Hill')], 'first_release': (1994, 12, 22), 'names': {'en': 'Troublemakers', 'it': 'Botte di Natale', 'de': 'Die Troublemaker'}}, 'Q521876': {'actors': [('Q243430', 'Terence Hill')], 'first_release': (1964, 1, 1), 'names': {'en': 'Last of the Renegades', 'it': 'Giorni di fuoco', 'de': 'Winnetou 2. Teil'}}, 'Q521907': {'actors': [('Q243430', 'Terence Hill')], 'first_release': (1975, 12, 16), 'names': {'en': 'A Genius, Two Partners and a Dupe', 'it': 'Un genio, due compari, un pollo', 'de': 'Nobody ist der Größte'}}, 'Q548277': {'actors': [('Q221074', 'Bud Spencer')], 'first_release': (1977, 5, 5), 'names': {'en': 'Charleston', 'it': 'Charleston', 'de': 'Charleston – Zwei Fäuste räumen auf'}}, 'Q555722': {'actors': [('Q221074', 'Bud Spencer'), ('Q243430', 'Terence Hill')], 'first_release': (1969, 12, 20), 'names': {'en': 'Boot Hill', 'it': 'La collina degli stivali', 'de': 'Hügel der blutigen Stiefel'}}, 'Q558927': {'actors': [('Q221074', 'Bud Spencer')], 'first_release': (1986, 12, 23), 'names': {'en': 'Superfantagenio', 'it': 'Superfantagenio', 'de': 'Aladin'}}, 'Q587854': {'actors': [('Q221074', 'Bud Spencer')], 'first_release': (1980, 3, 1), 'names': {'en': 'Flatfoot in Egypt', 'it': \"Piedone d'Egitto\", 'de': 'Plattfuß am Nil'}}, 'Q589001': {'actors': [('Q221074', 'Bud Spencer'), ('Q243430', 'Terence Hill')], 'first_release': (1971, 10, 21), 'names': {'en': 'Trinity Is Still My Name', 'it': '...continuavano a chiamarlo Trinità', 'de': 'Vier Fäuste für ein Halleluja'}}, 'Q596199': {'actors': [('Q221074', 'Bud Spencer')], 'first_release': (1982, 3, 25), 'names': {'en': 'Banana Joe', 'it': 'Banana Joe', 'de': 'Banana Joe'}}, 'Q596623': {'actors': [('Q243430', 'Terence Hill')], 'first_release': (1963, 1, 1), 'names': {'en': 'The Leopard', 'it': 'Il Gattopardo', 'de': 'Der Leopard'}}, 'Q597579': {'actors': [('Q221074', 'Bud Spencer'), ('Q243430', 'Terence Hill')], 'first_release': (1984, 10, 19), 'names': {'en': 'Double Trouble', 'it': \"Non c'è due senza quattro\", 'de': 'Vier Fäuste gegen Rio'}}, 'Q598709': {'actors': [('Q221074', 'Bud Spencer'), ('Q243430', 'Terence Hill')], 'first_release': (1970, 12, 22), 'names': {'en': 'They Call Me Trinity', 'it': 'Lo chiamavano Trinità...', 'de': 'Die rechte und die linke Hand des Teufels'}}, 'Q622201': {'actors': [('Q221074', 'Bud Spencer')], 'first_release': (1971, 1, 1), 'names': {'en': 'Four Flies on Grey Velvet', 'it': '4 mosche di velluto grigio', 'de': 'Vier Fliegen auf grauem Samt'}}, 'Q638356': {'actors': [('Q221074', 'Bud Spencer')], 'first_release': (1972, 12, 27), 'names': {'en': 'A Reason to Live, a Reason to Die', 'it': 'Una ragione per vivere e una per morire', 'de': 'Sie verkaufen den Tod'}}, 'Q668928': {'actors': [('Q221074', 'Bud Spencer')], 'first_release': (1979, 8, 10), 'names': {'en': 'The Sheriff and the Satellite Kid', 'it': 'Uno sceriffo extraterrestre... poco extra e molto terrestre', 'de': 'Der Große mit seinem außerirdischen Kleinen'}}, 'Q694040': {'actors': [('Q221074', 'Bud Spencer')], 'first_release': (1978, 3, 22), 'names': {'en': 'Flatfoot in Africa', 'it': \"Piedone l'africano\", 'de': 'Plattfuß in Afrika'}}, 'Q736144': {'actors': [('Q243430', 'Terence Hill')], 'first_release': (1972, 9, 9), 'names': {'en': 'Man of the East', 'it': '...E poi lo chiamarono il Magnifico', 'de': 'Verflucht, verdammt und Halleluja'}}, 'Q751099': {'actors': [('Q243430', 'Terence Hill')], 'first_release': (1991, 7, 4), 'names': {'en': 'Lucky Luke', 'it': 'Lucky Luke', 'de': 'Lucky Luke'}}, 'Q758591': {'actors': [('Q221074', 'Bud Spencer')], 'first_release': (1973, 3, 22), 'names': {'en': 'Even Angels Eat Beans', 'it': 'Anche gli angeli mangiano fagioli', 'de': 'Auch die Engel essen Bohnen'}}, 'Q780835': {'actors': [('Q221074', 'Bud Spencer')], 'first_release': (1981, 3, 6), 'names': {'en': 'Buddy Goes West', 'it': 'Occhio alla penna', 'de': 'Eine Faust geht nach Westen'}}, 'Q785492': {'actors': [('Q243430', 'Terence Hill')], 'first_release': (1965, 8, 25), 'names': {'en': 'Rampage at Apache Wells', 'it': 'Danza di guerra per Ringo', 'de': 'Der Ölprinz'}}, 'Q822995': {'actors': [('Q243430', 'Terence Hill')], 'first_release': (1965, 1, 1), 'names': {'en': 'Duel at Sundown', 'it': 'Sparate a vista su Killer Kid', 'de': 'Duell vor Sonnenuntergang'}}, 'Q825322': {'actors': [('Q221074', 'Bud Spencer')], 'first_release': (1972, 9, 28), 'names': {'en': 'Black Turin', 'it': 'Torino nera', 'de': 'Der Sizilianer'}}, 'Q826950': {'actors': [('Q221074', 'Bud Spencer')], 'first_release': (2009, 2, 26), 'names': {'en': 'Mord ist mein Geschäft', 'it': 'Tesoro, sono un killer', 'de': 'Mord ist mein Geschäft, Liebling'}}, 'Q840565': {'actors': [('Q243430', 'Terence Hill')], 'first_release': (1967, 1, 1), 'names': {'en': 'Preparati la bara!', 'it': 'Preparati la bara!', 'de': 'Django und die Bande der Gehenkten'}}, 'Q841882': {'actors': [('Q221074', 'Bud Spencer')], 'first_release': (1975, 3, 27), 'names': {'en': 'Flatfoot in Hong Kong', 'it': 'Piedone a Hong Kong', 'de': 'Plattfuß räumt auf'}}, 'Q841887': {'actors': [('Q221074', 'Bud Spencer')], 'first_release': (1973, 10, 23), 'names': {'en': 'Piedone lo sbirro', 'it': 'Piedone lo sbirro', 'de': 'Sie nannten ihn Plattfuß'}}, 'Q848252': {'actors': [('Q221074', 'Bud Spencer'), ('Q243430', 'Terence Hill')], 'first_release': (1968, 10, 31), 'names': {'en': 'Ace High', 'it': \"I quattro dell'Ave Maria\", 'de': 'Vier für ein Ave Maria'}}, 'Q850096': {'actors': [('Q221074', 'Bud Spencer')], 'first_release': (1980, 9, 25), 'names': {'en': 'Why Did You Pick On Me?', 'it': 'Chissà perché... capitano tutte a me', 'de': 'Buddy haut den Lukas'}}, 'Q850155': {'actors': [('Q221074', 'Bud Spencer')], 'first_release': (1975, 1, 1), 'names': {'en': 'Il soldato di ventura', 'it': 'Il soldato di ventura', 'de': 'Hector, der Ritter ohne Furcht und Tadel'}}, 'Q882468': {'actors': [('Q243430', 'Terence Hill')], 'first_release': (1967, 1, 1), 'names': {'en': 'Rita of the West', 'it': 'Little Rita nel West', 'de': 'Blaue Bohnen für ein Halleluja'}}, 'Q895543': {'actors': [('Q243430', 'Terence Hill')], 'first_release': (1964, 1, 1), 'names': {'en': 'Among Vultures', 'it': 'Là dove scende il sole', 'de': 'Unter Geiern'}}, 'Q908533': {'actors': [('Q243430', 'Terence Hill')], 'first_release': (1983, 1, 1), 'names': {'en': 'The World of Don Camillo', 'it': 'Don Camillo', 'de': 'Keiner haut wie Don Camillo'}}, 'Q910695': {'actors': [('Q243430', 'Terence Hill')], 'first_release': (1977, 8, 5), 'names': {'en': 'March or Die', 'it': 'La bandera - Marcia o muori', 'de': 'Marschier oder stirb'}}, 'Q917322': {'actors': [('Q221074', 'Bud Spencer')], 'first_release': (1990, 1, 1), 'names': {'en': 'Speaking of the Devil', 'it': 'Un piede in paradiso', 'de': 'Wenn man vom Teufel spricht'}}, 'Q937303': {'actors': [('Q243430', 'Terence Hill')], 'first_release': (1961, 1, 1), 'names': {'en': 'The Wonders of Aladdin', 'it': 'Le meraviglie di Aladino', 'de': 'Aladins Abenteuer'}}, 'Q938137': {'actors': [('Q221074', 'Bud Spencer')], 'first_release': (1951, 1, 1), 'names': {'en': 'Quo Vadis', 'it': 'Quo vadis', 'de': 'Quo vadis?'}}, 'Q942657': {'actors': [('Q221074', 'Bud Spencer'), ('Q243430', 'Terence Hill')], 'first_release': (1985, 11, 1), 'names': {'en': 'Miami Supercops', 'it': \"Miami Supercops (I poliziotti dell'8ª strada)\", 'de': 'Die Miami Cops'}}, 'Q943961': {'actors': [('Q221074', 'Bud Spencer'), ('Q243430', 'Terence Hill')], 'first_release': (1971, 3, 12), 'names': {'en': 'Blackie the Pirate', 'it': 'Il corsaro nero', 'de': 'Freibeuter der Meere'}}, 'Q964009': {'actors': [('Q243430', 'Terence Hill')], 'first_release': (1973, 12, 13), 'names': {'en': 'My Name is Nobody', 'it': 'Il mio nome è Nessuno', 'de': 'Mein Name ist Nobody'}}, 'Q970386': {'actors': [('Q221074', 'Bud Spencer'), ('Q243430', 'Terence Hill')], 'first_release': (1979, 12, 13), 'names': {'en': 'Io sto con gli ippopotami', 'it': 'Io sto con gli ippopotami', 'de': 'Das Krokodil und sein Nilpferd'}}, 'Q1062054': {'actors': [('Q243430', 'Terence Hill')], 'first_release': (1980, 1, 1), 'names': {'en': 'Super Fuzz', 'it': 'Poliziotto superpiù', 'de': 'Der Supercop'}}, 'Q1070548': {'actors': [('Q221074', 'Bud Spencer'), ('Q243430', 'Terence Hill')], 'first_release': (1967, 10, 31), 'names': {'en': \"God Forgives... I Don't!\", 'it': 'Dio perdona... io no!', 'de': 'Gott vergibt… Django nie!'}}, 'Q1131511': {'actors': [('Q221074', 'Bud Spencer')], 'first_release': (1969, 10, 16), 'names': {'en': 'The Five Man Army', 'it': 'Un esercito di 5 uomini', 'de': 'Die fünf Gefürchteten'}}, 'Q1163902': {'actors': [('Q221074', 'Bud Spencer'), ('Q243430', 'Terence Hill')], 'first_release': (1951, 1, 1), 'names': {'en': 'Vacanze col gangster', 'it': 'Vacanze col gangster', 'de': 'Das große Ferienabenteuer'}}, 'Q1192601': {'actors': [('Q221074', 'Bud Spencer')], 'first_release': (1982, 8, 5), 'names': {'en': 'Bomber', 'it': 'Bomber', 'de': 'Der Bomber'}}, 'Q1295110': {'actors': [('Q221074', 'Bud Spencer')], 'first_release': (1968, 3, 28), 'names': {'en': 'Oggi a me... domani a te!', 'it': 'Oggi a me... domani a te!', 'de': 'Heute ich… morgen Du!'}}, 'Q1571469': {'actors': [('Q221074', 'Bud Spencer')], 'first_release': (1971, 1, 1), 'names': {'en': 'It Can Be Done Amigo', 'it': 'Si può fare... amigo', 'de': 'Halleluja… Amigo'}}, 'Q1576167': {'actors': [('Q221074', 'Bud Spencer'), ('Q243430', 'Terence Hill')], 'first_release': (1959, 12, 21), 'names': {'en': 'Hannibal', 'it': 'Annibale', 'de': 'Hannibal'}}, 'Q1629592': {'actors': [('Q221074', 'Bud Spencer')], 'first_release': (1957, 1, 1), 'names': {'en': 'A Farewell to Arms', 'it': 'Addio alle armi', 'de': 'In einem anderen Land'}}, 'Q1747484': {'actors': [('Q221074', 'Bud Spencer')], 'first_release': (1969, 9, 9), 'names': {'en': 'The Fifth Day of Peace', 'it': 'Gott mit uns (Dio è con noi)', 'de': 'Die im Dreck krepieren'}}, 'Q2046014': {'actors': [('Q221074', 'Bud Spencer')], 'first_release': (2001, 1, 1), 'names': {'en': 'Father Hope', 'it': 'Padre Speranza', 'de': 'Padre Speranza – Mit Gottes Segen'}}, 'Q3053517': {'actors': [('Q221074', 'Bud Spencer')], 'first_release': (2003, 1, 1), 'names': {'en': 'Singing Behind Screens', 'it': 'Cantando dietro i paraventi', 'de': 'Q3053517'}}, 'Q3546248': {'actors': [('Q221074', 'Bud Spencer')], 'first_release': (1997, 1, 1), 'names': {'en': 'To the Limit', 'it': 'Al limite', 'de': 'Al limite'}}, 'Q3744742': {'actors': [('Q221074', 'Bud Spencer')], 'first_release': (2000, 6, 16), 'names': {'en': 'Hijos del viento', 'it': 'Figli del vento', 'de': 'Söhne des Windes'}}, 'Q3754630': {'actors': [('Q221074', 'Bud Spencer')], 'first_release': (1997, 1, 1), 'names': {'en': 'Fireworks', 'it': \"Fuochi d'artificio\", 'de': \"Fuochi d'artificio\"}}, 'Q3819870': {'actors': [('Q221074', 'Bud Spencer')], 'first_release': (2010, 1, 1), 'names': {'en': \"L'ultimo gattopardo: Ritratto di Goffredo Lombardo\", 'it': \"L'ultimo gattopardo - Ritratto di Goffredo Lombardo\", 'de': \"L'ultimo gattopardo: Ritratto di Goffredo Lombardo\"}}, 'Q3927581': {'actors': [('Q221074', 'Bud Spencer')], 'first_release': (1950, 1, 1), 'names': {'en': 'Quel fantasma di mio marito', 'it': 'Quel fantasma di mio marito', 'de': 'Q3927581'}}, 'Q3960575': {'actors': [('Q221074', 'Bud Spencer')], 'first_release': (1954, 1, 1), 'names': {'en': 'Siluri umani', 'it': 'Siluri umani', 'de': 'Torpedomänner greifen an'}}, 'Q4003806': {'actors': [('Q221074', 'Bud Spencer')], 'first_release': (1955, 1, 1), 'names': {'en': 'A Hero of Our Times', 'it': 'Un eroe dei nostri tempi', 'de': 'Ein Held unserer Tage'}}, 'Q4004077': {'actors': [('Q221074', 'Bud Spencer'), ('Q243430', 'Terence Hill')], 'first_release': (1976, 1, 1), 'names': {'en': 'Un sorriso, uno schiaffo, un bacio in bocca', 'it': 'Un sorriso, uno schiaffo, un bacio in bocca', 'de': 'Un sorriso, uno schiaffo, un bacio in bocca'}}, 'Q16695037': {'actors': [('Q221074', 'Bud Spencer')], 'first_release': (1992, 1, 1), 'names': {'en': 'Extralarge: Black Magic', 'it': 'Q16695037', 'de': 'Zwei Supertypen in Miami – Extralarge gegen Tod und Teufel'}}, 'Q27590220': {'actors': [('Q221074', 'Bud Spencer')], 'first_release': (1957, 1, 1), 'names': {'en': \"Mamma's Boy\", 'it': 'Il cocco di mamma', 'de': 'Q27590220'}}, 'Q30807542': {'actors': [('Q221074', 'Bud Spencer')], 'first_release': (1992, 1, 1), 'names': {'en': 'Extralarge: Moving Target', 'it': 'Detective Extralarge: Bersaglio mobile', 'de': 'Zwei Supertypen in Miami – Die Formel des Todes'}}, 'Q30809518': {'actors': [('Q221074', 'Bud Spencer')], 'first_release': (1993, 1, 1), 'names': {'en': 'Extralarge: Indians', 'it': 'Q30809518', 'de': 'Zwei Supertypen in Miami – Extralarge und die Indianer'}}, 'Q32999881': {'actors': [('Q221074', 'Bud Spencer'), ('Q243430', 'Terence Hill')], 'first_release': (2017, 6, 23), 'names': {'en': 'They called him Bulldozer', 'it': 'Q32999881', 'de': 'Sie nannten ihn Spencer'}}, 'Q1198395': {'actors': [('Q243430', 'Terence Hill')], 'first_release': (1969, 1, 1), 'names': {'en': 'Barbagia', 'it': 'Barbagia', 'de': 'Der blauäugige Bandit'}}, 'Q1215151': {'actors': [('Q243430', 'Terence Hill')], 'first_release': (1966, 1, 1), 'names': {'en': 'Die Nibelungen', 'it': 'Q1215151', 'de': 'Die Nibelungen'}}, 'Q1233715': {'actors': [('Q243430', 'Terence Hill')], 'first_release': (2009, 1, 1), 'names': {'en': 'Doc West', 'it': 'Doc West', 'de': 'Doc West – Nobody ist zurück'}}, 'Q1255585': {'actors': [('Q243430', 'Terence Hill')], 'first_release': (1965, 1, 1), 'names': {'en': 'Call of the Forest', 'it': 'Il magnifico emigrante', 'de': 'Ruf der Wälder'}}, 'Q1351744': {'actors': [('Q243430', 'Terence Hill')], 'first_release': (2011, 1, 1), 'names': {'en': 'Un passo dal cielo', 'it': 'Un passo dal cielo', 'de': 'Die Bergpolizei – Ganz nah am Himmel'}}, 'Q1420968': {'actors': [('Q243430', 'Terence Hill')], 'first_release': (1972, 4, 7), 'names': {'en': 'The Hassled Hooker', 'it': 'Il vero e il falso', 'de': 'Allein gegen das Gesetz'}}, 'Q1423362': {'actors': [('Q243430', 'Terence Hill')], 'first_release': (1971, 1, 1), 'names': {'en': 'McCabe & Mrs. Miller', 'it': 'I compari', 'de': 'McCabe & Mrs. Miller'}}, 'Q1497343': {'actors': [('Q243430', 'Terence Hill')], 'first_release': (1965, 1, 1), 'names': {'en': 'Shots in Threequarter Time', 'it': 'Operazione terzo uomo', 'de': 'Schüsse im 3/4 Takt'}}, 'Q1788153': {'actors': [('Q243430', 'Terence Hill')], 'first_release': (1958, 1, 1), 'names': {'en': 'The Sword and the Cross', 'it': 'La spada e la croce', 'de': 'Kreuz und Schwert'}}, 'Q2527933': {'actors': [('Q243430', 'Terence Hill')], 'first_release': (1997, 1, 1), 'names': {'en': 'Virtual Weapon', 'it': 'Potenza virtuale', 'de': 'Virtual Weapon'}}, 'Q2940586': {'actors': [('Q243430', 'Terence Hill')], 'first_release': (1959, 1, 1), 'names': {'en': 'Carthage in Flames', 'it': 'Cartagine in fiamme', 'de': 'Karthago in Flammen'}}, 'Q3108858': {'actors': [('Q243430', 'Terence Hill')], 'first_release': (1955, 1, 1), 'names': {'en': 'The Abandoned', 'it': 'Gli sbandati', 'de': 'Die Verirrten'}}, 'Q3203227': {'actors': [('Q243430', 'Terence Hill')], 'first_release': (1960, 1, 1), 'names': {'en': 'The Story of Joseph and His Brethren', 'it': 'Giuseppe venduto dai fratelli', 'de': 'Q3203227'}}, 'Q3213477': {'actors': [('Q243430', 'Terence Hill')], 'first_release': (1955, 1, 1), 'names': {'en': 'Golden Vein', 'it': \"La vena d'oro\", 'de': 'Wandel des Herzens'}}, 'Q3223684': {'actors': [('Q243430', 'Terence Hill')], 'first_release': (1963, 1, 1), 'names': {'en': 'The Shortest Day', 'it': 'Il giorno più corto', 'de': 'Q3223684'}}, 'Q3224443': {'actors': [('Q243430', 'Terence Hill')], 'first_release': (1959, 1, 1), 'names': {'en': 'Il padrone delle ferriere', 'it': 'Il padrone delle ferriere', 'de': 'Q3224443'}}, 'Q3282673': {'actors': [('Q243430', 'Terence Hill')], 'first_release': (1953, 1, 1), 'names': {'en': 'Il viale della speranza', 'it': 'Il viale della speranza', 'de': 'Q3282673'}}, 'Q3283372': {'actors': [('Q243430', 'Terence Hill')], 'first_release': (1962, 1, 1), 'names': {'en': 'Seven Seas to Calais', 'it': 'Il dominatore dei 7 mari', 'de': 'Pirat der sieben Meere'}}, 'Q3547086': {'actors': [('Q243430', 'Terence Hill')], 'first_release': (1958, 1, 1), 'names': {'en': 'Anna of Brooklyn', 'it': 'Anna di Brooklyn', 'de': 'Anna von Brooklyn'}}, 'Q3664985': {'actors': [('Q243430', 'Terence Hill')], 'first_release': (1959, 1, 1), 'names': {'en': 'Cerasella', 'it': 'Cerasella', 'de': 'Q3664985'}}, 'Q3712040': {'actors': [('Q243430', 'Terence Hill')], 'first_release': (1954, 1, 1), 'names': {'en': 'Folgore Division', 'it': 'Divisione Folgore', 'de': 'El Alamein'}}, 'Q3778078': {'actors': [('Q243430', 'Terence Hill')], 'first_release': (1956, 1, 1), 'names': {'en': 'Q3778078', 'it': 'Guaglione', 'de': 'Q3778078'}}, 'Q3791384': {'actors': [('Q243430', 'Terence Hill')], 'first_release': (1956, 1, 1), 'names': {'en': 'Q3791384', 'it': 'I vagabondi delle stelle', 'de': 'Q3791384'}}, 'Q3801189': {'actors': [('Q243430', 'Terence Hill')], 'first_release': (1967, 1, 1), 'names': {'en': 'Io non protesto, io amo', 'it': 'Io non protesto, io amo', 'de': 'Io non protesto, io amo'}}, 'Q3811039': {'actors': [('Q243430', 'Terence Hill')], 'first_release': (1959, 1, 1), 'names': {'en': \"Juke box - Urli d'amore\", 'it': \"Juke-box, urli d'amore\", 'de': 'Q3811039'}}, 'Q3822300': {'actors': [('Q243430', 'Terence Hill')], 'first_release': (1967, 1, 1), 'names': {'en': 'The Crazy Kids of the War', 'it': 'La feldmarescialla', 'de': 'Die Helden der Kompanie'}}, 'Q3822655': {'actors': [('Q243430', 'Terence Hill')], 'first_release': (1957, 1, 1), 'names': {'en': 'La grande strada azzurra', 'it': 'La grande strada azzurra', 'de': 'Die große blaue Straße'}}, 'Q3828227': {'actors': [('Q243430', 'Terence Hill')], 'first_release': (1957, 1, 1), 'names': {'en': 'Lazzarella', 'it': 'Lazzarella', 'de': 'Q3828227'}}, 'Q3844156': {'actors': [('Q243430', 'Terence Hill')], 'first_release': (1956, 1, 1), 'names': {'en': 'Q3844156', 'it': 'Mamma sconosciuta', 'de': 'Q3844156'}}, 'Q3921867': {'actors': [('Q243430', 'Terence Hill')], 'first_release': (1959, 1, 1), 'names': {'en': 'First Love', 'it': 'Primo amore', 'de': 'Junge Leute von heute'}}, 'Q3998121': {'actors': [('Q243430', 'Terence Hill')], 'first_release': (2004, 1, 1), 'names': {'en': 'Three Days of Anarchy', 'it': \"Tre giorni d'anarchia\", 'de': 'Tre giorni d’anarchia'}}, 'Q4003928': {'actors': [('Q243430', 'Terence Hill')], 'first_release': (1960, 1, 1), 'names': {'en': 'Un militare e mezzo', 'it': 'Un militare e mezzo', 'de': 'Q4003928'}}, 'Q4011833': {'actors': [('Q243430', 'Terence Hill')], 'first_release': (1953, 1, 1), 'names': {'en': 'It Happened in the Park', 'it': 'Villa Borghese', 'de': 'Römischer Reigen'}}, 'Q7158603': {'actors': [('Q243430', 'Terence Hill')], 'first_release': (1961, 1, 1), 'names': {'en': 'Pecado de amor', 'it': 'Q7158603', 'de': 'Q7158603'}}, 'Q7939569': {'actors': [('Q243430', 'Terence Hill')], 'first_release': (1953, 1, 1), 'names': {'en': 'Voice of Silence', 'it': 'La voce del silenzio', 'de': 'Männer ohne Tränen'}}, 'Q15857347': {'actors': [('Q243430', 'Terence Hill')], 'first_release': (2009, 1, 1), 'names': {'en': 'Triggerman', 'it': 'Q15857347', 'de': 'Doc West – Nobody schlägt zurück'}}, 'Q20004776': {'actors': [('Q243430', 'Terence Hill')], 'first_release': (1953, 1, 1), 'names': {'en': 'Too Young for Love', 'it': \"L'età dell'amore\", 'de': 'Erste Liebe'}}, 'Q28064472': {'actors': [('Q243430', 'Terence Hill')], 'first_release': (1979, 1, 1), 'names': {'en': 'Org', 'it': 'Org', 'de': 'Org'}}, 'Q30889321': {'actors': [('Q243430', 'Terence Hill')], 'first_release': (2018, 1, 1), 'names': {'en': 'My Name Is Thomas', 'it': 'La chiamavano Maryam', 'de': 'Mein Name ist Somebody'}}}\n"
     ]
    }
   ],
   "source": [
    "import csv\n",
    "\n",
    "def load(filename_prefix, languages):\n",
    "    movie_dict = {}\n",
    "    for language in languages:\n",
    "        with open(f\"{filename_prefix}-{language}.csv\", encoding='utf-8') as f:\n",
    "            my_reader = csv.DictReader(f, delimiter=',')\n",
    "            for row in my_reader:\n",
    "                \n",
    "                movie_id = row[\"movie\"].split(\"/\")[-1]\n",
    "                release_date = tuple([int(item) for item in row[\"firstReleased\"].split(\"T\")[0].split(\"-\")])\n",
    "                star_id = row[\"star\"].split(\"/\")[-1]\n",
    "                star_lable = row[\"starLabel\"]\n",
    "                movie_lable = \"\" if row[\"movieLabel\"].isdigit() else row[\"movieLabel\"]\n",
    "                \n",
    "                if movie_id in movie_dict:\n",
    "                    movie_dict[movie_id][\"names\"][language] = movie_lable\n",
    "                    if (star_id, star_lable) not in movie_dict[movie_id][\"actors\"]:\n",
    "                        movie_dict[movie_id][\"actors\"].append((star_id, star_lable))\n",
    "                \n",
    "                else:\n",
    "                    movie_dict[movie_id]={\n",
    "                        \"actors\": [(star_id, star_lable)],\n",
    "                        \"first_release\": release_date,\n",
    "                        \"names\":{language: movie_lable}\n",
    "                    }\n",
    "\n",
    "    return movie_dict\n",
    "\n",
    "    #raise Exception('TODO IMPLEMENT ME !')\n",
    "    \n",
    "movies_db = load('bud-spencer-terence-hill-movies', ['en', 'it', 'de'])\n",
    "print(movies_db)\n",
    "#movies_db = load('bud-spencer-terence-hill-movies', ['es', 'en', 'de','it'])\n",
    "\n",
    "#{'Q116187': {'actors': [('Q221074', 'Bud Spencer')],\n",
    "              #'first_release': (1983, 2, 11),\n",
    "              #'names': {'de': 'Bud, der Ganovenschreck','en': 'Thieves and Robbers','it': 'Cane e gatto'}\n",
    "       \n"
   ]
  },
  {
   "cell_type": "markdown",
   "metadata": {},
   "source": [
    "Complete expected output can be found in [expected_db.py](expected_movies_db.py)"
   ]
  },
  {
   "cell_type": "code",
   "execution_count": null,
   "metadata": {},
   "outputs": [],
   "source": []
  },
  {
   "cell_type": "code",
   "execution_count": 115,
   "metadata": {},
   "outputs": [
    {
     "name": "stdout",
     "output_type": "stream",
     "text": [
      "\n",
      "ERROR at movie Q3778078 key: names\n",
      "  ACTUAL:\n",
      " {'de': 'Q3778078', 'en': 'Q3778078', 'it': 'Guaglione'}\n",
      "  EXPECTED:\n",
      " {'de': 'Q3778078', 'en': '', 'it': 'Guaglione'}\n",
      "\n",
      "ERROR at movie Q3791384 key: names\n",
      "  ACTUAL:\n",
      " {'de': 'Q3791384', 'en': 'Q3791384', 'it': 'I vagabondi delle stelle'}\n",
      "  EXPECTED:\n",
      " {'de': 'Q3791384', 'en': '', 'it': 'I vagabondi delle stelle'}\n",
      "\n",
      "ERROR at movie Q3844156 key: names\n",
      "  ACTUAL:\n",
      " {'de': 'Q3844156', 'en': 'Q3844156', 'it': 'Mamma sconosciuta'}\n",
      "  EXPECTED:\n",
      " {'de': 'Q3844156', 'en': '', 'it': 'Mamma sconosciuta'}\n"
     ]
    }
   ],
   "source": [
    "# TESTING\n",
    "from pprint import pformat; from expected_movies_db import expected_movies_db\n",
    "for sid in expected_movies_db.keys():\n",
    "    if sid not in movies_db: print('\\nERROR: MISSING movie', sid); break    \n",
    "    for k in expected_movies_db[sid]:\n",
    "        if k not in movies_db[sid]:\n",
    "            print('\\nERROR at movie', sid,'\\n\\n   MISSING key:', k); break    \n",
    "        if expected_movies_db[sid][k] != movies_db[sid][k]:\n",
    "            print('\\nERROR at movie', sid, 'key:',k)\n",
    "            print('  ACTUAL:\\n', pformat(movies_db[sid][k]))\n",
    "            print('  EXPECTED:\\n', pformat(expected_movies_db[sid][k]))\n",
    "            break\n",
    "if len(movies_db) > len(expected_movies_db):\n",
    "    print('ERROR! There are more movies than expected!')\n",
    "    print('  ACTUAL:\\n', len(movies_db))\n",
    "    print('  EXPECTED:\\n', len(expected_movies_db))"
   ]
  },
  {
   "cell_type": "markdown",
   "metadata": {},
   "source": [
    "## save_table\n",
    "\n",
    "Write a function that given a movies db and a list of `languages`, writes a new file `merged.csv` \n",
    "\n",
    "- separate actor names with `and`\n",
    "- use only the year as date\n",
    "- file must be formatted like this:"
   ]
  },
  {
   "cell_type": "code",
   "execution_count": 6,
   "metadata": {},
   "outputs": [
    {
     "name": "stdout",
     "output_type": "stream",
     "text": [
      "movie_id,name en,name it,first_release,actors\n",
      "Q116187,Thieves and Robbers,Cane e gatto,1983,Bud Spencer\n",
      "Q180638,Odds and Evens,Pari e dispari,1978,Bud Spencer and Terence Hill\n"
     ]
    }
   ],
   "source": []
  },
  {
   "cell_type": "code",
   "execution_count": 109,
   "metadata": {
    "scrolled": false
   },
   "outputs": [
    {
     "ename": "SyntaxError",
     "evalue": "invalid syntax (<ipython-input-109-5a1fba7bbb99>, line 6)",
     "output_type": "error",
     "traceback": [
      "\u001b[0;36m  File \u001b[0;32m\"<ipython-input-109-5a1fba7bbb99>\"\u001b[0;36m, line \u001b[0;32m6\u001b[0m\n\u001b[0;31m    my_writer.writerow([f\"movie_id,{f\"name_{language}\" for old in languages],first_release,actors\")\u001b[0m\n\u001b[0m                                          ^\u001b[0m\n\u001b[0;31mSyntaxError\u001b[0m\u001b[0;31m:\u001b[0m invalid syntax\n"
     ]
    }
   ],
   "source": [
    "import csv\n",
    "\n",
    "def save_table(movies, languages):\n",
    "    with open('merged.csv', 'w', newline='') as csvfile_out:\n",
    "        my_writer = csv.writer(csvfile_out) \n",
    "        my_writer.writerow([f\"movie_id,{f\"name_{language}\" for old in languages],first_release,actors\")\n",
    "        for movie in movies:\n",
    "            my_writer.writerow([movies, movies['names'][language], movies['first_release'], movies['actors']])\n",
    " \n",
    "    #raise Exception('TODO IMPLEMENT ME !')    \n",
    "    \n",
    "save_table(movies_db, ['en','it'])\n",
    "#save_table(movies_db, ['de'])\n"
   ]
  },
  {
   "cell_type": "markdown",
   "metadata": {},
   "source": [
    "Complete expected file is in [expected-merged.csv](expected-merged.csv)"
   ]
  },
  {
   "cell_type": "code",
   "execution_count": 8,
   "metadata": {},
   "outputs": [],
   "source": [
    "# TESTING\n",
    "with open('expected-merged.csv',encoding='utf-8', newline='') as expected_f:\n",
    "    with open('merged.csv',encoding='utf-8', newline='') as f:\n",
    "        expected_reader = csv.reader(expected_f, delimiter=',')            \n",
    "        reader = csv.reader(f, delimiter=',')\n",
    "        i = 0\n",
    "        for expected_row in expected_reader: \n",
    "            try:\n",
    "                row = next(reader)\n",
    "            except:\n",
    "                print('ERROR at row', i, ': ACTUAL rows are less than EXPECTED!')\n",
    "                break                \n",
    "            for j in range(len(expected_row)):\n",
    "                if expected_row[j] != row[j]:\n",
    "                    print('ERROR at row', i, '  cell index', j)\n",
    "                    print(row)\n",
    "                    print('\\nACTUAL  :', row[j])\n",
    "                    print('\\nEXPECTED:', expected_row[j])\n",
    "                    break\n",
    "            i += 1            "
   ]
  },
  {
   "cell_type": "markdown",
   "metadata": {},
   "source": [
    "## show_graph\n",
    "\n",
    "Display a NetworkX graph of movies [see examples](https://en.softpython.org/relational/relational1-intro-sol.html#Fancy-networkx-graphs) from `since_year` (included) to  `until_year` (included), in the given `language`\n",
    "\n",
    "* display actor names as capitalized\n",
    "* display co-starred movies, non co-starred movies and actors with different colors by setting node attribute `fillcolor` (see [some color names](https://www.w3.org/wiki/CSS/Properties/color/keywords))"
   ]
  },
  {
   "cell_type": "code",
   "execution_count": 126,
   "metadata": {},
   "outputs": [
    {
     "ename": "TypeError",
     "evalue": "string indices must be integers",
     "output_type": "error",
     "traceback": [
      "\u001b[0;31m---------------------------------------------------------------------------\u001b[0m",
      "\u001b[0;31mTypeError\u001b[0m                                 Traceback (most recent call last)",
      "\u001b[0;32m<ipython-input-126-854bf2bd495d>\u001b[0m in \u001b[0;36m<module>\u001b[0;34m()\u001b[0m\n\u001b[1;32m     25\u001b[0m     \u001b[0;31m#raise Exception('TODO IMPLEMENT ME !')\u001b[0m\u001b[0;34m\u001b[0m\u001b[0;34m\u001b[0m\u001b[0;34m\u001b[0m\u001b[0m\n\u001b[1;32m     26\u001b[0m \u001b[0;34m\u001b[0m\u001b[0m\n\u001b[0;32m---> 27\u001b[0;31m \u001b[0mshow_graph\u001b[0m\u001b[0;34m(\u001b[0m\u001b[0mmovies_db\u001b[0m\u001b[0;34m,\u001b[0m \u001b[0;36m1970\u001b[0m\u001b[0;34m,\u001b[0m \u001b[0;36m1975\u001b[0m\u001b[0;34m,\u001b[0m \u001b[0;34m'en'\u001b[0m\u001b[0;34m)\u001b[0m\u001b[0;34m\u001b[0m\u001b[0;34m\u001b[0m\u001b[0m\n\u001b[0m",
      "\u001b[0;32m<ipython-input-126-854bf2bd495d>\u001b[0m in \u001b[0;36mshow_graph\u001b[0;34m(movies, since_year, until_year, language)\u001b[0m\n\u001b[1;32m      5\u001b[0m         \u001b[0mactors\u001b[0m \u001b[0;34m=\u001b[0m \u001b[0;34m[\u001b[0m\u001b[0;34m]\u001b[0m\u001b[0;34m\u001b[0m\u001b[0;34m\u001b[0m\u001b[0m\n\u001b[1;32m      6\u001b[0m         \u001b[0;32mfor\u001b[0m \u001b[0mmovie\u001b[0m \u001b[0;32min\u001b[0m \u001b[0mmovies\u001b[0m\u001b[0;34m:\u001b[0m\u001b[0;34m\u001b[0m\u001b[0;34m\u001b[0m\u001b[0m\n\u001b[0;32m----> 7\u001b[0;31m             \u001b[0mprint\u001b[0m\u001b[0;34m(\u001b[0m\u001b[0mmovie\u001b[0m\u001b[0;34m[\u001b[0m\u001b[0;34m\"actors\"\u001b[0m\u001b[0;34m]\u001b[0m\u001b[0;34m[\u001b[0m\u001b[0;36m0\u001b[0m\u001b[0;34m]\u001b[0m\u001b[0;34m[\u001b[0m\u001b[0;36m1\u001b[0m\u001b[0;34m]\u001b[0m\u001b[0;34m)\u001b[0m\u001b[0;34m\u001b[0m\u001b[0;34m\u001b[0m\u001b[0m\n\u001b[0m\u001b[1;32m      8\u001b[0m             \u001b[0;31m#if movie[\"actors\"][0] not in actors:\u001b[0m\u001b[0;34m\u001b[0m\u001b[0;34m\u001b[0m\u001b[0;34m\u001b[0m\u001b[0m\n\u001b[1;32m      9\u001b[0m                 \u001b[0;31m#actors.append(movie[\"actors\"])\u001b[0m\u001b[0;34m\u001b[0m\u001b[0;34m\u001b[0m\u001b[0;34m\u001b[0m\u001b[0m\n",
      "\u001b[0;31mTypeError\u001b[0m: string indices must be integers"
     ]
    }
   ],
   "source": [
    "import networkx as nx\n",
    "from sciprog import draw_nx\n",
    "\n",
    "def show_graph(movies, since_year, until_year, language):\n",
    "        actors = []\n",
    "        for movie in movies:\n",
    "            print(movie[\"actors\"][0][1])\n",
    "            #if movie[\"actors\"][0] not in actors:\n",
    "                #actors.append(movie[\"actors\"])\n",
    "     \n",
    "            \n",
    "    #draw_adj({\n",
    "            \n",
    "            \n",
    "            \n",
    "            \n",
    "    #'Trento Cathedral' : ['Trento Cathedral', 'Trento Neptune Statue'],\n",
    "    #'Trento Neptune Statue' : ['Trento Neptune Statue', 'Trento Cathedral'],\n",
    "    #'Povo' : ['Povo'],\n",
    "#})\n",
    "    \n",
    "    #G = nx.DiGraph()       \n",
    "    #G.graph['graph']= { 'layout':'neato' }  # don't delete these!\n",
    "    \n",
    "    #raise Exception('TODO IMPLEMENT ME !')\n",
    "    \n",
    "show_graph(movies_db, 1970, 1975, 'en')    "
   ]
  },
  {
   "cell_type": "code",
   "execution_count": 125,
   "metadata": {},
   "outputs": [],
   "source": [
    "#show_graph(movies_db, 1970, 1974, 'it')"
   ]
  },
  {
   "cell_type": "code",
   "execution_count": null,
   "metadata": {},
   "outputs": [],
   "source": []
  }
 ],
 "metadata": {
  "celltoolbar": "Edit Metadata",
  "kernelspec": {
   "display_name": "Python 3",
   "language": "python",
   "name": "python3"
  },
  "language_info": {
   "codemirror_mode": {
    "name": "ipython",
    "version": 3
   },
   "file_extension": ".py",
   "mimetype": "text/x-python",
   "name": "python",
   "nbconvert_exporter": "python",
   "pygments_lexer": "ipython3",
   "version": "3.6.9"
  },
  "toc": {
   "base_numbering": 1,
   "nav_menu": {},
   "number_sections": false,
   "sideBar": true,
   "skip_h1_title": false,
   "title_cell": "Table of Contents",
   "title_sidebar": "Contents",
   "toc_cell": false,
   "toc_position": {},
   "toc_section_display": true,
   "toc_window_display": true
  }
 },
 "nbformat": 4,
 "nbformat_minor": 1
}
