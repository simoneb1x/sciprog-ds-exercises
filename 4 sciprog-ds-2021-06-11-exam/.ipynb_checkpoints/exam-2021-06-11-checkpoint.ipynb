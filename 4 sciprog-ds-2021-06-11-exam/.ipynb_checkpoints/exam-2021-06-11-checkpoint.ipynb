{
 "cells": [
  {
   "cell_type": "code",
   "execution_count": 9,
   "metadata": {
    "nbsphinx": "hidden"
   },
   "outputs": [],
   "source": [
    "#Please execute this cell\n",
    "import jupman;"
   ]
  },
  {
   "cell_type": "markdown",
   "metadata": {},
   "source": [
    "# Exam -  Fri 11, Jun 2021 EXERCISES\n",
    "\n",
    "**Scientific Programming - Data Science Master @ University of Trento**\n",
    "\n",
    "## [Download exercises and solutions](_static/generated/sciprog-ds-2021-06-11-exam.zip)"
   ]
  },
  {
   "cell_type": "markdown",
   "metadata": {},
   "source": [
    "## Part A - Trans-Atlantic Slave Trade\n",
    "\n",
    "Open Jupyter and start editing this notebook `exam-2021-06-11.ipynb`\n",
    "\n",
    "\n",
    "Two centuries ago the shipping of enslaved Africans across the Atlantic was morally indistinguishable from shipping sugar or textiles. This migration experience covers an era of very dramatic shifts in perceptions of good and evil, which provided the Americas with a crucial labor force for their own economic development. \n",
    "\n",
    "\n",
    "**Data provider**: The Trans-Atlantic Slave Trade Database. 2020. SlaveVoyages. [https://www.slavevoyages.org](https://www.slavevoyages.org). You are enouraged to explore the dataset with the [very interesting online tool](https://www.slavevoyages.org/voyage/database) they built, in particular check out the [Maps](https://www.slavevoyages.org/voyage/database#maps) and [Timelapse](https://www.slavevoyages.org/voyage/database#timelapse) tabs.\n",
    "\n",
    "**Data license**:\n",
    "\n",
    "- Historical data: The Trans-Atlantic Slave Trade Database. 2020. SlaveVoyages. [https://www.slavevoyages.org](https://www.slavevoyages.org) (accessed June 9, 2020). License: Public domain (use restrictions do not apply).\n",
    "- Imputed data: Estimates. 2020. SlaveVoyages. [https://slavevoyages.org/assessment/estimates](https://slavevoyages.org/assessment/estimates) (accessed June 9, 2020). License: Creative Commons Attribution-Noncommercial 3.0 United States License.\n"
   ]
  },
  {
   "cell_type": "markdown",
   "metadata": {},
   "source": [
    "## A1 read_trade\n",
    "\n",
    "\n",
    "Each line in [slave-trade.csv](slave-trade.csv) represents a ship voyage from a purchase place to a landing place. Parse it with a csv reader and output a list of dictionaries, one per voyage according to the output excerpt.\n",
    "\n",
    "- Each ship has a nation flag `NATINIMP`\n",
    "\n",
    "- Each voyage has purchase place code `MJBYPTIMP` and a landing place code `MJSLPTIMP` with five digits format `xyzvt` that indicate a specific town: you **MUST** save more generic codes of the form `xyz00` which indicate broader regions.\n",
    "\n",
    "\n",
    "* **WARNING 1**: convert to int **only** `VOYAGEID` and `YEARAM`, leave `MJBYPTIMP` and `MJSLPTIMP` as strings\n",
    "- **WARNING 2:** some codes in `slave-trade.csv` have a space instead of a number, in those cases save code `00000`"
   ]
  },
  {
   "cell_type": "code",
   "execution_count": 10,
   "metadata": {},
   "outputs": [
    {
     "data": {
      "text/html": [
       "<div>\n",
       "<style scoped>\n",
       "    .dataframe tbody tr th:only-of-type {\n",
       "        vertical-align: middle;\n",
       "    }\n",
       "\n",
       "    .dataframe tbody tr th {\n",
       "        vertical-align: top;\n",
       "    }\n",
       "\n",
       "    .dataframe thead th {\n",
       "        text-align: right;\n",
       "    }\n",
       "</style>\n",
       "<table border=\"1\" class=\"dataframe\">\n",
       "  <thead>\n",
       "    <tr style=\"text-align: right;\">\n",
       "      <th></th>\n",
       "      <th>VOYAGEID</th>\n",
       "      <th>YEARAM</th>\n",
       "      <th>NATINIMP</th>\n",
       "      <th>MJBYPTIMP</th>\n",
       "      <th>MJSLPTIMP</th>\n",
       "    </tr>\n",
       "  </thead>\n",
       "  <tbody>\n",
       "    <tr>\n",
       "      <th>0</th>\n",
       "      <td>1</td>\n",
       "      <td>1817</td>\n",
       "      <td>Portugal/Brazil</td>\n",
       "      <td>60820</td>\n",
       "      <td>50299</td>\n",
       "    </tr>\n",
       "    <tr>\n",
       "      <th>2000</th>\n",
       "      <td>2024</td>\n",
       "      <td>1840</td>\n",
       "      <td>U.S.A.</td>\n",
       "      <td>60615</td>\n",
       "      <td>31399</td>\n",
       "    </tr>\n",
       "    <tr>\n",
       "      <th>2361</th>\n",
       "      <td>2393</td>\n",
       "      <td>1829</td>\n",
       "      <td>Spain/Uruguay</td>\n",
       "      <td>60212</td>\n",
       "      <td></td>\n",
       "    </tr>\n",
       "    <tr>\n",
       "      <th>4000</th>\n",
       "      <td>4190</td>\n",
       "      <td>1854</td>\n",
       "      <td>U.S.A.</td>\n",
       "      <td>60515</td>\n",
       "      <td>31301</td>\n",
       "    </tr>\n",
       "  </tbody>\n",
       "</table>\n",
       "</div>"
      ],
      "text/plain": [
       "      VOYAGEID  YEARAM         NATINIMP MJBYPTIMP MJSLPTIMP\n",
       "0            1    1817  Portugal/Brazil     60820     50299\n",
       "2000      2024    1840           U.S.A.     60615     31399\n",
       "2361      2393    1829    Spain/Uruguay     60212          \n",
       "4000      4190    1854           U.S.A.     60515     31301"
      ]
     },
     "execution_count": 10,
     "metadata": {},
     "output_type": "execute_result"
    }
   ],
   "source": [
    "import pandas as pd   \n",
    "import numpy as np    \n",
    "df = pd.read_csv('slave-trade.csv', encoding='UTF-8')\n",
    "df[df.VOYAGEID.isin([1, 2024, 2393, 4190])]"
   ]
  },
  {
   "cell_type": "markdown",
   "metadata": {},
   "source": [
    "**Region labels**: For each location you need to also save its label, which you can find in separate file [region-codes.csv]('region-codes.csv') (load the file with a csv reader)\n",
    "\n",
    "- **WARNING 1:** in `region-codes.csv` there are **only** codes in format `xyz00`\n",
    "- **WARNING 2:** some region codes are missing, in those cases place label `'unknown'`"
   ]
  },
  {
   "cell_type": "code",
   "execution_count": 11,
   "metadata": {},
   "outputs": [
    {
     "data": {
      "text/html": [
       "<div>\n",
       "<style scoped>\n",
       "    .dataframe tbody tr th:only-of-type {\n",
       "        vertical-align: middle;\n",
       "    }\n",
       "\n",
       "    .dataframe tbody tr th {\n",
       "        vertical-align: top;\n",
       "    }\n",
       "\n",
       "    .dataframe thead th {\n",
       "        text-align: right;\n",
       "    }\n",
       "</style>\n",
       "<table border=\"1\" class=\"dataframe\">\n",
       "  <thead>\n",
       "    <tr style=\"text-align: right;\">\n",
       "      <th></th>\n",
       "      <th>Value</th>\n",
       "      <th>Region</th>\n",
       "    </tr>\n",
       "  </thead>\n",
       "  <tbody>\n",
       "    <tr>\n",
       "      <th>47</th>\n",
       "      <td>31300</td>\n",
       "      <td>Cuba</td>\n",
       "    </tr>\n",
       "    <tr>\n",
       "      <th>84</th>\n",
       "      <td>50200</td>\n",
       "      <td>Bahia</td>\n",
       "    </tr>\n",
       "    <tr>\n",
       "      <th>92</th>\n",
       "      <td>60500</td>\n",
       "      <td>Bight of Benin</td>\n",
       "    </tr>\n",
       "    <tr>\n",
       "      <th>93</th>\n",
       "      <td>60600</td>\n",
       "      <td>Bight of Biafra and Gulf of Guinea islands</td>\n",
       "    </tr>\n",
       "    <tr>\n",
       "      <th>95</th>\n",
       "      <td>60800</td>\n",
       "      <td>Southeast Africa and Indian Ocean islands</td>\n",
       "    </tr>\n",
       "  </tbody>\n",
       "</table>\n",
       "</div>"
      ],
      "text/plain": [
       "    Value                                      Region\n",
       "47  31300                                        Cuba\n",
       "84  50200                                       Bahia\n",
       "92  60500                              Bight of Benin\n",
       "93  60600  Bight of Biafra and Gulf of Guinea islands\n",
       "95  60800   Southeast Africa and Indian Ocean islands"
      ]
     },
     "execution_count": 11,
     "metadata": {},
     "output_type": "execute_result"
    }
   ],
   "source": [
    "import pandas as pd   \n",
    "dfr = pd.read_csv('region-codes.csv', encoding='UTF-8', dtype=str)\n",
    "dfr[dfr.Value.isin(['60800','60600','31300','50200','60500'])]"
   ]
  },
  {
   "cell_type": "code",
   "execution_count": null,
   "metadata": {},
   "outputs": [],
   "source": [
    "import csv\n",
    "from pprint import pprint\n",
    "\n",
    "def read_voyages(slave_trade_csv, region_codes_csv):\n",
    "    \n",
    "    ret = []\n",
    "\n",
    "    with open(slave_trade_csv, encoding='utf-8', newline='') as f1:\n",
    "        my_reader1 = csv.DictReader(f1, delimiter=',')\n",
    "        for d in my_reader1:\n",
    "            ret.append({\n",
    "                'flag': d['NATINIMP'],\n",
    "                'id': int(d['VOYAGEID']),\n",
    "                'landing_id': d['MJSLPTIMP'][0:3]+\"00\",\n",
    "                'landing_label': 'edit me',\n",
    "                'purchase_id': d['MJBYPTIMP'][0:3]+\"00\",\n",
    "                'purchase_label': 'edit me',\n",
    "                'year': int(d['YEARAM']),\n",
    "            })\n",
    "        \n",
    "        with open(region_codes_csv, encoding='utf-8', newline='') as f2:\n",
    "            my_reader2 = csv.DictReader(f2, delimiter=',')\n",
    "            for y in my_reader2:\n",
    "                for x in ret:\n",
    "                    #pprint(y)\n",
    "                    # print(x['landing_id'])\n",
    "                    # print(y['Value'])\n",
    "\n",
    "                    if x['landing_id'] == y['Value']:\n",
    "                        x['landing_label'] = y['Region']\n",
    "                    if x['purchase_id'] == y['Value']:\n",
    "                        x['purchase_label'] = y['Region']\n",
    "            \n",
    "        for x in ret:\n",
    "            if x['landing_label'] == 'edit me':\n",
    "                x['landing_label'] = 'unknown'\n",
    "            \n",
    "            if x['purchase_label'] == 'edit me':\n",
    "                x['purchase_label'] = 'unknown'\n",
    "                \n",
    "            if x['landing_id'] == ' 00':\n",
    "                x['landing_id'] = '00000'\n",
    "            \n",
    "            if x['purchase_id'] == ' 00':\n",
    "                x['purchase_id'] = '00000'\n",
    "            \n",
    "    return ret\n",
    "        \n",
    "voyages_db = read_voyages('slave-trade.csv', 'region-codes.csv')\n",
    "\n",
    "#print('OUTPUT EXCERPT:')\n",
    "#from pprint import pformat\n",
    "#print('[\\n' +',\\n'.join([pformat(voyages_db[vid]) for vid in [0,2000,2361, 4000]]) + ',\\n  .\\n  .\\n]')"
   ]
  },
  {
   "cell_type": "code",
   "execution_count": null,
   "metadata": {},
   "outputs": [],
   "source": [
    "\"\"\"\n",
    "OUTPUT EXCERPT:\n",
    "[\n",
    "{'flag': 'Portugal/Brazil',\n",
    " 'id': 1,\n",
    " 'landing_id': '50200',\n",
    " 'landing_label': 'Bahia',\n",
    " 'purchase_id': '60800',\n",
    " 'purchase_label': 'Southeast Africa and Indian Ocean islands',\n",
    " 'year': 1817},\n",
    "{'flag': 'U.S.A.',\n",
    " 'id': 2024,\n",
    " 'landing_id': '31300',\n",
    " 'landing_label': 'Cuba',\n",
    " 'purchase_id': '60600',\n",
    " 'purchase_label': 'Bight of Biafra and Gulf of Guinea islands',\n",
    " 'year': 1840},\n",
    "{'flag': 'Spain/Uruguay',\n",
    " 'id': 2393,\n",
    " 'landing_id': '00000',\n",
    " 'landing_label': 'unknown',\n",
    " 'purchase_id': '60200',\n",
    " 'purchase_label': 'Sierra Leone',\n",
    " 'year': 1829},\n",
    "{'flag': 'U.S.A.',\n",
    " 'id': 4190,\n",
    " 'landing_id': '31300',\n",
    " 'landing_label': 'Cuba',\n",
    " 'purchase_id': '60500',\n",
    " 'purchase_label': 'Bight of Benin',\n",
    " 'year': 1854},\n",
    "  .\n",
    "  .\n",
    "]\n",
    "\n",
    "TOTAL: 35min\n",
    "\"\"\""
   ]
  },
  {
   "cell_type": "code",
   "execution_count": null,
   "metadata": {},
   "outputs": [],
   "source": [
    "# TESTING\n",
    "from pprint import pformat; from expected_db import expected_db\n",
    "for i in range(0, len(expected_db)):\n",
    "    if expected_db[i] != voyages_db[i]:\n",
    "        print('\\nERROR at index', i, ':')\n",
    "        print('  ACTUAL:\\n', pformat(voyages_db[i]))\n",
    "        print('  EXPECTED:\\n', pformat(expected_db[i]))\n",
    "        break"
   ]
  },
  {
   "cell_type": "markdown",
   "metadata": {},
   "source": [
    "## A2 Deportation\n",
    "\n",
    "For each link purchase -> landing place,  count in how many voyages it was present, then draw result in networkx. \n",
    "\n",
    "- as edge `weight` use a normalized value from 0.0 to 1.0 (maximal count found in the graph)\n",
    "- show only edges with weight greater or equal to `min_weight` \n",
    "- to display the graph from right to left, set `G.graph['graph']= {'rankdir':'RL'}`\n",
    "- for networkx attributes [see this example](https://en.softpython.org/graph-formats/graph-formats-sol.html#Fancy-networkx-graphs)"
   ]
  },
  {
   "cell_type": "code",
   "execution_count": null,
   "metadata": {
    "scrolled": false
   },
   "outputs": [],
   "source": [
    "import networkx as nx\n",
    "from sciprog import draw_nx\n",
    "\n",
    "def show_deportation(voyages, min_weight):\n",
    "    \n",
    "    couples = {}\n",
    "    purchase_place = \"\"\n",
    "    landing_place = \"\"\n",
    "    index1 = 0\n",
    "    index2 = 0\n",
    "    j = 0\n",
    "    j1 = 0\n",
    "    j2 = 0\n",
    "    \n",
    "    for k in voyages:\n",
    "        if (k['purchase_id'], k['landing_id']) in couples:\n",
    "            couples[(k['purchase_id'], k['landing_id'])] += 1\n",
    "        else:\n",
    "            couples[(k['purchase_id'], k['landing_id'])] = 1\n",
    "    \n",
    "    G = nx.DiGraph()\n",
    "    \n",
    "    # we force horizontal layout like this:\n",
    "    G.graph['graph']= {\n",
    "                        'rankdir':'LR',\n",
    "                      }\n",
    "    \n",
    "    for couple in couples:\n",
    "        purchase_place = couple[1]\n",
    "        landing_place = couple[0]\n",
    "        \n",
    "        j = nx.to_dict_of_lists(G)\n",
    "        j1 = j.keys()\n",
    "        j2 = j.values()\n",
    "        \n",
    "        if purchase_place in j1 == False or purchase_place in j2 == False:\n",
    "            G.add_node(purchase_place, color='orange', fontcolor='black')\n",
    "        \n",
    "        if landing_place in j1 == False or landing_place in j2 == False:\n",
    "             G.add_node(landing_place, color='black', fontcolor='black')\n",
    "\n",
    "        G.add_edge(purchase_place, landing_place)\n",
    "        \n",
    "    draw_nx(G)\n",
    "    \n",
    "show_deportation(voyages_db, 0.09)    \n",
    "#show_deportation(voyages_db, 0.06)"
   ]
  },
  {
   "cell_type": "code",
   "execution_count": null,
   "metadata": {},
   "outputs": [],
   "source": []
  },
  {
   "cell_type": "markdown",
   "metadata": {},
   "source": [
    "## A3 The time to stop\n",
    "\n",
    "Given a nation flag, plot inside `draw_time` the number of voyages per year done by ships belonging to that flag.\n",
    "\n",
    "**DO NOT** call `plt.show` nor `plt.figure` \n",
    "\n",
    "- we show some counts example but to calculate the data feel free to use any method you want\n",
    "- **to associate a plot to a label, use i.e.** `plt.plot(xs, ys, label='France')`"
   ]
  },
  {
   "cell_type": "code",
   "execution_count": 148,
   "metadata": {
    "scrolled": false
   },
   "outputs": [
    {
     "data": {
      "image/png": "[encoded data removed]",
      "text/plain": [
       "<Figure size 1080x432 with 1 Axes>"
      ]
     },
     "metadata": {
      "needs_background": "light"
     },
     "output_type": "display_data"
    }
   ],
   "source": [
    "%matplotlib inline\n",
    "import matplotlib.pyplot as plt\n",
    "            \n",
    "def draw_time(voyages, flag):\n",
    "    voyages_for_flag = {}\n",
    "    \n",
    "    for voyage in voyages:\n",
    "        \n",
    "        if voyage['flag'] == flag:\n",
    "            \n",
    "            if voyage['year'] in voyages_for_flag:\n",
    "                voyages_for_flag[voyage['year']] += 1\n",
    "            else:\n",
    "                voyages_for_flag[voyage['year']] = 1\n",
    "    \n",
    "    xs = sorted(voyages_for_flag.keys())\n",
    "    ys = [voyages_for_flag[v] for v in xs]\n",
    "    \n",
    "    plt.plot(xs, ys, label=flag)\n",
    "\n",
    "fig = plt.figure(figsize=(15,6)) \n",
    "draw_time(voyages_db, 'France')\n",
    "draw_time(voyages_db, 'U.S.A.')\n",
    "draw_time(voyages_db, 'Great Britain')\n",
    "plt.legend()    \n",
    "plt.show()"
   ]
  },
  {
   "cell_type": "markdown",
   "metadata": {},
   "source": [
    "## Part B\n",
    "\n",
    "* Open Visual Studio Code and start editing the folder on your desktop"
   ]
  },
  {
   "cell_type": "markdown",
   "metadata": {},
   "source": [
    "## B1 Theory\n",
    "\n",
    "**Write the solution in separate `theory.txt` file**\n",
    "\n",
    "\n",
    "### B1.1 Complexity\n",
    "\n",
    "Given a list `L` of $n$ elements, please compute the asymptotic computational complexity of the following function, explaining your reasoning.\n",
    "\n",
    "```python\n",
    "def my_fun(L):\n",
    "    T = []\n",
    "    N = len(L)\n",
    "    for i in range(N//2):\n",
    "        k = 0\n",
    "        tmp = 0\n",
    "        while k < 4:\n",
    "            tmp += L[i]*k\n",
    "            k = k + 1\n",
    "        T.insert(0,tmp)\n",
    "\n",
    "    return T\n",
    "```"
   ]
  },
  {
   "cell_type": "markdown",
   "metadata": {},
   "source": [
    "### B1.2 Graph\n",
    "\n",
    "What is a depth first search (DFS) of a graph? Please answer briefly and then provide a possible DFS (illustrating the reasoning behind the answer) of the following graph starting from the node a"
   ]
  },
  {
   "cell_type": "code",
   "execution_count": 8,
   "metadata": {},
   "outputs": [
    {
     "data": {
      "image/png": "[encoded data removed]",
      "text/plain": [
       "<Figure size 360x360 with 1 Axes>"
      ]
     },
     "metadata": {
      "needs_background": "light"
     },
     "output_type": "display_data"
    }
   ],
   "source": []
  },
  {
   "cell_type": "markdown",
   "metadata": {},
   "source": [
    "## B2 - is_heap_stack\n",
    "\n",
    "Open `bin_tree.py` and implement:"
   ]
  },
  {
   "cell_type": "code",
   "execution_count": 9,
   "metadata": {},
   "outputs": [
    {
     "name": "stdout",
     "output_type": "stream",
     "text": [
      "def is_heap_stack(self):\n",
      "    \"\"\" A tree is a min heap if each node data is less or equal than its children data.\n",
      "        RETURN True if the tree is a min heap, False otherwise\n",
      "        \n",
      "        - DO *NOT* use recursion\n",
      "        - implement it with a while and a stack (as a python list)            \n",
      "        - MUST run in O(n), where n is the tree size\n",
      "    \"\"\"\n"
     ]
    }
   ],
   "source": []
  },
  {
   "cell_type": "markdown",
   "metadata": {},
   "source": [
    "**Testing**: `python3 -m unittest bin_tree_test`"
   ]
  },
  {
   "cell_type": "code",
   "execution_count": 10,
   "metadata": {},
   "outputs": [
    {
     "data": {
      "text/plain": [
       "True"
      ]
     },
     "execution_count": 10,
     "metadata": {},
     "output_type": "execute_result"
    }
   ],
   "source": [
    "from bin_tree_test import bt\n",
    "from bin_tree_sol import *\n",
    "t = bt(7,\n",
    "        bt(9, \n",
    "                bt(10,\n",
    "                        bt(40)),\n",
    "                bt(14)),\n",
    "        bt(20, \n",
    "                None,\n",
    "                bt(30,\n",
    "                        bt(50),\n",
    "                        bt(90))))\n",
    "\n",
    "t.is_heap_stack()"
   ]
  },
  {
   "cell_type": "code",
   "execution_count": 11,
   "metadata": {},
   "outputs": [
    {
     "data": {
      "text/plain": [
       "False"
      ]
     },
     "execution_count": 11,
     "metadata": {},
     "output_type": "execute_result"
    }
   ],
   "source": [
    "t = bt(7,\n",
    "        bt(9, \n",
    "                bt(10,\n",
    "                        bt(40)),\n",
    "                bt(14)),\n",
    "        bt(20, \n",
    "                None,\n",
    "                bt(30,\n",
    "                        bt(11),\n",
    "                        bt(90))))\n",
    "t.is_heap_stack()"
   ]
  },
  {
   "cell_type": "markdown",
   "metadata": {},
   "source": [
    "## B3 - sepel\n",
    "\n",
    "Open `linked_list` and implement this method:"
   ]
  },
  {
   "cell_type": "code",
   "execution_count": 12,
   "metadata": {},
   "outputs": [
    {
     "name": "stdout",
     "output_type": "stream",
     "text": [
      "def sepel(self, el):\n",
      "    \"\"\" Separates this list into two lists:\n",
      "        \n",
      "        - this list will have all nodes without el as data\n",
      "        - the other list will contain all nodes with el as data\n",
      "        \n",
      "        - IMPORTANT: DO *NOT* create new nodes, REUSE existing ones!!\n",
      "        - MUST execute in O(n), where n is the length of the list\n",
      "    \"\"\"\n"
     ]
    }
   ],
   "source": []
  },
  {
   "cell_type": "markdown",
   "metadata": {},
   "source": [
    "**Testing**: `python3 -m unittest linked_list_test`\n",
    "\n",
    "**Example**:"
   ]
  },
  {
   "cell_type": "code",
   "execution_count": 13,
   "metadata": {},
   "outputs": [],
   "source": [
    "from linked_list_sol import *\n",
    "la = LinkedList()\n",
    "la.add('c')\n",
    "la.add('e')\n",
    "la.add('c')\n",
    "la.add('d')\n",
    "la.add('c')\n",
    "la.add('c')\n",
    "la.add('b')\n",
    "la.add('a')\n",
    "la.add('c')"
   ]
  },
  {
   "cell_type": "code",
   "execution_count": 14,
   "metadata": {},
   "outputs": [
    {
     "name": "stdout",
     "output_type": "stream",
     "text": [
      "LinkedList: c,a,b,c,c,d,c,e,c\n"
     ]
    }
   ],
   "source": [
    "print(la)"
   ]
  },
  {
   "cell_type": "code",
   "execution_count": 15,
   "metadata": {},
   "outputs": [],
   "source": [
    "lb = la.sepel('c')"
   ]
  },
  {
   "cell_type": "code",
   "execution_count": 16,
   "metadata": {},
   "outputs": [
    {
     "name": "stdout",
     "output_type": "stream",
     "text": [
      "LinkedList: a,b,d,e\n"
     ]
    }
   ],
   "source": [
    "print(la) "
   ]
  },
  {
   "cell_type": "code",
   "execution_count": 17,
   "metadata": {},
   "outputs": [
    {
     "name": "stdout",
     "output_type": "stream",
     "text": [
      "LinkedList: c,c,c,c,c\n"
     ]
    }
   ],
   "source": [
    "print(lb)  "
   ]
  },
  {
   "cell_type": "code",
   "execution_count": 18,
   "metadata": {
    "nbsphinx": "hidden"
   },
   "outputs": [
    {
     "name": "stderr",
     "output_type": "stream",
     "text": [
      "........................\n",
      "----------------------------------------------------------------------\n",
      "Ran 24 tests in 0.022s\n",
      "\n",
      "OK\n",
      "...........\n",
      "----------------------------------------------------------------------\n",
      "Ran 11 tests in 0.009s\n",
      "\n",
      "OK\n"
     ]
    }
   ],
   "source": [
    "#ignore this\n",
    "import jupman\n",
    "\n",
    "import linked_list_test\n",
    "import bin_tree_test\n",
    "jupman.run(bin_tree_test)\n",
    "jupman.run(linked_list_test)"
   ]
  }
 ],
 "metadata": {
  "celltoolbar": "Edit Metadata",
  "kernelspec": {
   "display_name": "Python 3",
   "language": "python",
   "name": "python3"
  },
  "toc": {
   "base_numbering": 1,
   "nav_menu": {},
   "number_sections": false,
   "sideBar": true,
   "skip_h1_title": false,
   "title_cell": "Table of Contents",
   "title_sidebar": "Contents",
   "toc_cell": false,
   "toc_position": {
    "height": "calc(100% - 180px)",
    "left": "10px",
    "top": "150px",
    "width": "280.2px"
   },
   "toc_section_display": true,
   "toc_window_display": true
  }
 },
 "nbformat": 4,
 "nbformat_minor": 1
}
