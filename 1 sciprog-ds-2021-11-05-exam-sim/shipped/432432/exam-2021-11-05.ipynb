{
 "cells": [
  {
   "cell_type": "code",
   "execution_count": 1,
   "metadata": {
    "nbsphinx": "hidden"
   },
   "outputs": [
    {
     "name": "stdout",
     "output_type": "stream",
     "text": [
      "Free mem: 2332 MB  Limiting to: 1166 MB\n",
      "Free mem: 2352 MB  Limiting to: 1176 MB\n"
     ]
    }
   ],
   "source": [
    "def mem_limit(MB=None):\n",
    "    import os\n",
    "    if os.name == 'nt':\n",
    "        print('WARNING: limiting memory on Windows is not supported')\n",
    "        return\n",
    "    \n",
    "    import resource\n",
    "    with open('/proc/meminfo', 'r') as mem:\n",
    "        free_memory = 0\n",
    "        for i in mem:\n",
    "            sline = i.split()            \n",
    "            if str(sline[0]) == 'MemAvailable:':\n",
    "                free_memory = int(sline[1])               \n",
    "                break     \n",
    "        if sline[2] != 'kB':\n",
    "            raise Exception('Unrecognized memory unit:', sline[2])\n",
    "        soft, hard = resource.getrlimit(resource.RLIMIT_AS)\n",
    "        if not MB:                    \n",
    "            MB = (free_memory // 1024) // 2  \n",
    "        print('Free mem:', free_memory//1024, 'MB', \n",
    "              ' Limiting to:', MB, 'MB')\n",
    "        resource.setrlimit(resource.RLIMIT_AS, (MB *1024 * 1024, hard))\n",
    "\n",
    "mem_limit()\n",
    "\n",
    "#Please execute this cell\n",
    "import jupman;\n",
    "jupman.mem_limit()"
   ]
  },
  {
   "cell_type": "markdown",
   "metadata": {},
   "source": [
    "# Midterm sim -  Fri 05, Nov 2021 EXERCISES\n",
    "\n",
    "**Scientific Programming - Data Science Master @ University of Trento**\n",
    "\n",
    "**THIS IS ONLY A SIMULATION: YOU EARN NOTHING, YOU LOSE NOTHING**\n",
    "\n",
    "<!-- ## [Download exercises and solutions](_static/generated/sciprog-ds-2021-11-05-exam.zip) \n",
    "\n",
    "**Fri 05, Nov 2021**: Published [exam solutions](exams/2021-11-05/solutions/exam-2021-11-05-sol.ipynb)\n",
    "-->"
   ]
  },
  {
   "cell_type": "markdown",
   "metadata": {},
   "source": [
    "## Part A - Terence Hill and Bud Spencer movies\n",
    "\n",
    "Among the greatest gifts of Italy to the world we can certainly count Terence Hill and Bud Spencer movies. \n",
    "\n",
    "We took their movies data from [Wikidata](https://wikidata.org/), a project by the Wikimedia foundation which aims to store only machine-readable data, like numbers, strings, and so on interlinked with many references. Each entity in Wikidata has an identifier, for example Terence Hill is the [entity Q243430](http://www.wikidata.org/entity/Q243430) and Bud Spencer is [Q221074](http://www.wikidata.org/entity/Q221074).\n",
    "\n",
    "<!--Wikidata can be queried using the SPARQL language: the data was obtained with [this query](https://query.wikidata.org/#SELECT%20%3Fstar%20%3FstarLabel%20%3Fitem%20%3FitemLabel%20%28MIN%28%3Fdate%29%20AS%20%3FfirstReleased%29%0AWHERE%20%7B%0A%20%20%3Fitem%20wdt%3AP161%20%3Fstar%3B%0A%20%20%20%20%20%20%20%20wdt%3AP577%20%3Fdate.%0A%20%20%20%20%0A%20%20FILTER%20%28%3Fstar%20%3D%20wd%3AQ221074%20%7C%7C%20%3Fstar%20%3D%20wd%3AQ243430%29%20%20%0A%20%20%20%20%20%20%20%20%20%0A%20%20SERVICE%20wikibase%3Alabel%20%7B%20bd%3AserviceParam%20wikibase%3Alanguage%20%22en%22.%20%7D%0A%20%20OPTIONAL%20%7B%20%3Fitem%20wdt%3AP18%20%3F_image.%20%7D%0A%7D%20GROUP%20BY%20%3Fstar%20%3FstarLabel%20%3Fitem%20%3FitemLabel%20%3F_image%0AORDER%20BY%20%28%3Fdate%29) repeated for several languages, and downloaded in CSV format (among the many which can be chosen). <!--Even if not necessary for the purposes of the exercise, you are invited to play a bit with the interface, like trying different visualizations (i.e. try select map in the middle-left corner) - or see other examples-->\n",
    "\n",
    "\n",
    "You are given some CSVs of movies, all having names ending in `-LG.csv`, where LG can be a language tag like `it`, `en`, `de`, `es`... They mostly contain the same data except for the movie labels which are in the corresponding language. The final goal will be displaying the network of movies and put in evidence the ones co-starring the famous duo. \n",
    "\n",
    "Each file row contains info about a single actor starring in a movie. Multiple lines with same movie id will mean multiple actors are co-starring. We can see an excerpt of **first four** lines of english version: notice second movie has id [Q180638](http://www.wikidata.org/entity/Q180638) and is co-starred by both Bud Spencer and Terence Hill"
   ]
  },
  {
   "cell_type": "code",
   "execution_count": 2,
   "metadata": {},
   "outputs": [
    {
     "name": "stdout",
     "output_type": "stream",
     "text": [
      "star,starLabel,movie,movieLabel,firstReleased\n",
      "\n",
      "http://www.wikidata.org/entity/Q221074,Bud Spencer,http://www.wikidata.org/entity/Q116187,Thieves and Robbers,1983-02-11T00:00:00Z\n",
      "\n",
      "http://www.wikidata.org/entity/Q221074,Bud Spencer,http://www.wikidata.org/entity/Q180638,Odds and Evens,1978-10-28T00:00:00Z\n",
      "\n",
      "http://www.wikidata.org/entity/Q243430,Terence Hill,http://www.wikidata.org/entity/Q180638,Odds and Evens,1978-10-28T00:00:00Z\n",
      "\n"
     ]
    }
   ],
   "source": []
  },
  {
   "cell_type": "markdown",
   "metadata": {},
   "source": [
    "Now open Jupyter and start editing this notebook `exam-2021-11-05.ipynb`"
   ]
  },
  {
   "cell_type": "markdown",
   "metadata": {},
   "source": [
    "## load\n",
    "\n",
    "Write a function that given a `filename_prefix` and list of `languages`, parses the corresponding files and RETURNS a **dictionary of dictionaries**, which maps movies id to movies data, in the format as in the exerpt.\n",
    "\n",
    "- When a label is missing, you will find instead an id like `Q3778078`: substitute it with empty string\n",
    " (HINT: to recognize ids you might use `is_digit()` method) \n",
    "- convert date numbers to proper integers\n",
    "- **DO NOT** put constant ids nor language tags in the code (so no `'Q221074'` nor `'it'` ...)"
   ]
  },
  {
   "cell_type": "code",
   "execution_count": 59,
   "metadata": {
    "scrolled": false
   },
   "outputs": [],
   "source": [
    "import csv\n",
    "\n",
    "def load(filename_prefix, languages):\n",
    "    ris= dict()\n",
    "    csvs = [filename_prefix+\"-\"+d+\".csv\" for d in languages]\n",
    "    #get normal info\n",
    "    i = 0\n",
    "    while i < len(languages):\n",
    "        with open(csvs[i]) as f:\n",
    "            reader = csv.reader(f, delimiter = ',')\n",
    "            next(reader)\n",
    "            if i == 0:\n",
    "                for row in reader:\n",
    "                    actor_id = row[0].split(\"/\")[4]\n",
    "                    film_id = row[2].split(\"/\")[4]\n",
    "                    release = row[4].split(\"-\")\n",
    "                    release = (int(release[0]),int(release[1]),int(release[2].split('T')[0]))\n",
    "                    #name = (row[3][0] != \"Q\") ? row[3] : \"\"\n",
    "                    #if row[3][0] != \"Q\":\n",
    "                    name = row[3]\n",
    "                    #else:\n",
    "                    #    name = \"\"\n",
    "                    #print(ris)\n",
    "                    if film_id in ris:\n",
    "                        ris[film_id]['actors'].append((actor_id,row[1]))\n",
    "                    else:\n",
    "                        ris[film_id] = dict()\n",
    "                        ris[film_id]['actors'] = [(actor_id,row[1])]\n",
    "                        ris[film_id]['first_release'] = release\n",
    "                        ris[film_id]['names'] = {languages[i]:name}\n",
    "            else:\n",
    "                for row in reader:\n",
    "                    #if row[3][0] != \"Q\":\n",
    "                    name = row[3]\n",
    "                    #else:\n",
    "                    #    name = \"\"\n",
    "                    film_id = row[2].split(\"/\")[4]\n",
    "                    ris[film_id]['names'][languages[i]] = name\n",
    "                    #print(row[3])\n",
    "                    #print(languages[i])\n",
    "                    #print(ris[film_id]['names'])\n",
    "                    #print(ris[film_id]['names'][languages[i]])\n",
    "                \n",
    "               \n",
    "                    \n",
    "            \n",
    "            #print(ris)\n",
    "        i +=1    \n",
    "     \n",
    "    return(ris)\n",
    "    #raise Exception('TODO IMPLEMENT ME !')\n",
    "    \n",
    "movies_db = load('bud-spencer-terence-hill-movies', ['en', 'it', 'de'])\n",
    "#movies_db = load('bud-spencer-terence-hill-movies', ['es', 'en', 'de','it'])\n"
   ]
  },
  {
   "cell_type": "markdown",
   "metadata": {},
   "source": [
    "Complete expected output can be found in [expected_db.py](expected_movies_db.py)"
   ]
  },
  {
   "cell_type": "code",
   "execution_count": 4,
   "metadata": {},
   "outputs": [
    {
     "name": "stdout",
     "output_type": "stream",
     "text": [
      "EXERPT:\n",
      "{\n",
      "  'Q116187': {\n",
      "              'actors': [('Q221074', 'Bud Spencer')],\n",
      "              'first_release': (1983, 2, 11),\n",
      "              'names': {'de': 'Bud, der Ganovenschreck',\n",
      "                        'en': 'Thieves and Robbers',\n",
      "                        'it': 'Cane e gatto'}\n",
      "             }\n",
      "  'Q180638': {\n",
      "              'actors': [('Q221074', 'Bud Spencer'), ('Q243430', 'Terence Hill')],\n",
      "              'first_release': (1978, 10, 28),\n",
      "              'names': {'de': 'Zwei sind nicht zu bremsen',\n",
      "                        'en': 'Odds and Evens',\n",
      "                        'it': 'Pari e dispari'}\n",
      "             }\n",
      "  'Q231967': {\n",
      "              'actors': [('Q221074', 'Bud Spencer'), ('Q243430', 'Terence Hill')],\n",
      "              'first_release': (1981, 1, 1),\n",
      "              'names': {'de': 'Zwei Asse trumpfen auf',\n",
      "                        'en': 'A Friend Is a Treasure',\n",
      "                        'it': 'Chi trova un amico, trova un tesoro'}\n",
      "             }\n",
      "  .\n",
      "  .\n",
      "}\n"
     ]
    }
   ],
   "source": []
  },
  {
   "cell_type": "code",
   "execution_count": 60,
   "metadata": {},
   "outputs": [
    {
     "name": "stdout",
     "output_type": "stream",
     "text": [
      "\n",
      "ERROR at movie Q3778078 key: names\n",
      "  ACTUAL:\n",
      " {'de': 'Q3778078', 'en': 'Q3778078', 'it': 'Guaglione'}\n",
      "  EXPECTED:\n",
      " {'de': 'Q3778078', 'en': '', 'it': 'Guaglione'}\n",
      "\n",
      "ERROR at movie Q3791384 key: names\n",
      "  ACTUAL:\n",
      " {'de': 'Q3791384', 'en': 'Q3791384', 'it': 'I vagabondi delle stelle'}\n",
      "  EXPECTED:\n",
      " {'de': 'Q3791384', 'en': '', 'it': 'I vagabondi delle stelle'}\n",
      "\n",
      "ERROR at movie Q3844156 key: names\n",
      "  ACTUAL:\n",
      " {'de': 'Q3844156', 'en': 'Q3844156', 'it': 'Mamma sconosciuta'}\n",
      "  EXPECTED:\n",
      " {'de': 'Q3844156', 'en': '', 'it': 'Mamma sconosciuta'}\n"
     ]
    }
   ],
   "source": [
    "# TESTING\n",
    "from pprint import pformat; from expected_movies_db import expected_movies_db\n",
    "for sid in expected_movies_db.keys():\n",
    "    if sid not in movies_db: print('\\nERROR: MISSING movie', sid); break    \n",
    "    for k in expected_movies_db[sid]:\n",
    "        if k not in movies_db[sid]:\n",
    "            print('\\nERROR at movie', sid,'\\n\\n   MISSING key:', k); break    \n",
    "        if expected_movies_db[sid][k] != movies_db[sid][k]:\n",
    "            print('\\nERROR at movie', sid, 'key:',k)\n",
    "            print('  ACTUAL:\\n', pformat(movies_db[sid][k]))\n",
    "            print('  EXPECTED:\\n', pformat(expected_movies_db[sid][k]))\n",
    "            break\n",
    "if len(movies_db) > len(expected_movies_db):\n",
    "    print('ERROR! There are more movies than expected!')\n",
    "    print('  ACTUAL:\\n', len(movies_db))\n",
    "    print('  EXPECTED:\\n', len(expected_movies_db))"
   ]
  },
  {
   "cell_type": "markdown",
   "metadata": {},
   "source": [
    "## save_table\n",
    "\n",
    "Write a function that given a movies db and a list of `languages`, writes a new file `merged.csv` \n",
    "\n",
    "- separate actor names with `and`\n",
    "- use only the year as date\n",
    "- file must be formatted like this:"
   ]
  },
  {
   "cell_type": "code",
   "execution_count": 6,
   "metadata": {},
   "outputs": [
    {
     "name": "stdout",
     "output_type": "stream",
     "text": [
      "movie_id,name en,name it,first_release,actors\n",
      "Q116187,Thieves and Robbers,Cane e gatto,1983,Bud Spencer\n",
      "Q180638,Odds and Evens,Pari e dispari,1978,Bud Spencer and Terence Hill\n"
     ]
    }
   ],
   "source": []
  },
  {
   "cell_type": "code",
   "execution_count": null,
   "metadata": {
    "scrolled": false
   },
   "outputs": [],
   "source": [
    "import csv\n",
    "\n",
    "def save_table(movies, languages):\n",
    "    i = 0\n",
    "    with open('merged.csv','w') as f: \n",
    "        w = csv.writer(f, delimiter='w')\n",
    "        w.writerow([\"movie_id\",\"name en\",\"name it\",\"first_release\",\"actors\"])\n",
    "        keys = list(movies.keys())\n",
    "        while i < len(keys):\n",
    "            movie = movies[keys[i]]\n",
    "            elements = [keys[i]]\n",
    "            for title in languages:\n",
    "                elements.append(movie['names'][title])\n",
    "            elements.append(movie['first_release'][0])\n",
    "            #print(movie)\n",
    "            if len(movie['actors']) == 1:\n",
    "                elements.append(movie['actors'][0])\n",
    "            else:\n",
    "                elements.append(movie['actors'][0]+\" and \"+movie['actors'][0])\n",
    "            #while i < len(languages):\n",
    "            w.writerow(elements)\n",
    "            i += 1\n",
    "    raise Exception('TODO IMPLEMENT ME !')    \n",
    "    \n",
    "save_table(movies_db, ['en','it'])\n",
    "#save_table(movies_db, ['de'])\n"
   ]
  },
  {
   "cell_type": "markdown",
   "metadata": {},
   "source": [
    "Complete expected file is in [expected-merged.csv](expected-merged.csv)"
   ]
  },
  {
   "cell_type": "code",
   "execution_count": null,
   "metadata": {},
   "outputs": [],
   "source": [
    "# TESTING\n",
    "with open('expected-merged.csv',encoding='utf-8', newline='') as expected_f:\n",
    "    with open('merged.csv',encoding='utf-8', newline='') as f:\n",
    "        expected_reader = csv.reader(expected_f, delimiter=',')            \n",
    "        reader = csv.reader(f, delimiter=',')\n",
    "        i = 0\n",
    "        for expected_row in expected_reader: \n",
    "            try:\n",
    "                row = next(reader)\n",
    "            except:\n",
    "                print('ERROR at row', i, ': ACTUAL rows are less than EXPECTED!')\n",
    "                break                \n",
    "            for j in range(len(expected_row)):\n",
    "                if expected_row[j] != row[j]:\n",
    "                    print('ERROR at row', i, '  cell index', j)\n",
    "                    print(row)\n",
    "                    print('\\nACTUAL  :', row[j])\n",
    "                    print('\\nEXPECTED:', expected_row[j])\n",
    "                    break\n",
    "            i += 1            "
   ]
  },
  {
   "cell_type": "markdown",
   "metadata": {},
   "source": [
    "## show_graph\n",
    "\n",
    "Display a NetworkX graph of movies [see examples](https://en.softpython.org/relational/relational1-intro-sol.html#Fancy-networkx-graphs) from `since_year` (included) to  `until_year` (included), in the given `language`\n",
    "\n",
    "* display actor names as capitalized\n",
    "* display co-starred movies, non co-starred movies and actors with different colors by setting node attribute `fillcolor` (see [some color names](https://www.w3.org/wiki/CSS/Properties/color/keywords))"
   ]
  },
  {
   "cell_type": "code",
   "execution_count": null,
   "metadata": {},
   "outputs": [],
   "source": [
    "import networkx as nx\n",
    "from sciprog import draw_nx\n",
    "\n",
    "def show_graph(movies, since_year, until_year, language):\n",
    "    \n",
    "    G = nx.DiGraph()       \n",
    "    G.graph['graph']= { 'layout':'neato' }  # don't delete these!\n",
    "    G.add_node('Bud Spencer', label = \"BUD SPENCER\")\n",
    "    G.add_node('Terence Hill', label = \"TERENCE HILL\")\n",
    "    i = 0\n",
    "    for movie in movies:\n",
    "        year = movie['first_release'][0]\n",
    "        if year < since_year or year > since_year:\n",
    "            i += 1\n",
    "            continue\n",
    "        else:\n",
    "            title = movie['names'][language]\n",
    "            \n",
    "            G.add_node(i, label = title)\n",
    "            for actor in movie[actors]:\n",
    "                G.add_edge(actor,i)   \n",
    "            i += 1\n",
    "        \n",
    "    \n",
    "    #raise Exception('TODO IMPLEMENT ME !')\n",
    "    \n",
    "show_graph(movies_db, 1970, 1975, 'en')    "
   ]
  },
  {
   "cell_type": "code",
   "execution_count": 10,
   "metadata": {},
   "outputs": [],
   "source": [
    "#show_graph(movies_db, 1970, 1974, 'it')"
   ]
  },
  {
   "cell_type": "code",
   "execution_count": null,
   "metadata": {},
   "outputs": [],
   "source": []
  }
 ],
 "metadata": {
  "celltoolbar": "Edit Metadata",
  "kernelspec": {
   "display_name": "Python 3",
   "language": "python",
   "name": "python3"
  },
  "language_info": {
   "codemirror_mode": {
    "name": "ipython",
    "version": 3
   },
   "file_extension": ".py",
   "mimetype": "text/x-python",
   "name": "python",
   "nbconvert_exporter": "python",
   "pygments_lexer": "ipython3",
   "version": "3.6.9"
  },
  "toc": {
   "base_numbering": 1,
   "nav_menu": {},
   "number_sections": false,
   "sideBar": true,
   "skip_h1_title": false,
   "title_cell": "Table of Contents",
   "title_sidebar": "Contents",
   "toc_cell": false,
   "toc_position": {},
   "toc_section_display": true,
   "toc_window_display": true
  }
 },
 "nbformat": 4,
 "nbformat_minor": 1
}
