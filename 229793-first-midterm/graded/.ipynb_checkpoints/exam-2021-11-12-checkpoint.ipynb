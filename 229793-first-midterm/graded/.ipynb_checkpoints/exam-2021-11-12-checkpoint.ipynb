{
 "cells": [
  {
   "cell_type": "code",
   "execution_count": 1,
   "metadata": {
    "nbsphinx": "hidden"
   },
   "outputs": [
    {
     "name": "stdout",
     "output_type": "stream",
     "text": [
      "Free mem: 1521 MB  Limiting to: 760 MB\n"
     ]
    }
   ],
   "source": [
    "#Please execute this cell\n",
    "import jupman\n",
    "from pprint import pprint\n",
    "jupman.mem_limit()"
   ]
  },
  {
   "cell_type": "markdown",
   "metadata": {},
   "source": [
    "# Exam -  Fri 12, Nov 2021 EXERCISES\n",
    "\n",
    "**Scientific Programming - Data Science Master @ University of Trento**\n",
    "\n",
    "<!-- ## [Download exercises and solutions](_static/generated/sciprog-ds-2021-11-12-exam.zip) \n",
    "\n",
    "**Fri 12, Nov 2021**: Published [exam solutions](exams/2021-11-12/solutions/exam-2021-11-12-sol.ipynb)\n",
    "-->"
   ]
  },
  {
   "cell_type": "markdown",
   "metadata": {},
   "source": [
    "## Part A - Mexican Drug Wars\n",
    "\n",
    "<!--\n",
    "[Dataverse](https://dataverse.harvard.edu/dataset.xhtml;jsessionid=1e404f3e090b7e5cb74d35948e40?persistentId=doi%3A10.7910%2FDVN%2FVIXNNE&version=&q=&fileTypeGroupFacet=&fileAccess=&fileTag=%22Data%22&fileSortField=name&fileSortOrder=desc)\n",
    "\n",
    "Trejo, Guillermo; Ley, Sandra, 2019, \"Replication Data for: High-Profile Criminal Violence. Why Drug Cartels Murder Government Officials and Party Candidates in Mexico\", https://doi.org/10.7910/DVN/VIXNNE, Harvard Dataverse, V1, UNF:6:BcqInKD9NBX3NkI48CdqpQ== [fileUNF]  License: CC0 - \"Public Domain Dedication\" \n",
    "\n",
    "Coscia, Michele and Viridiana Rios (2012). Knowing Where and How Criminal Organizations Operate Using Web Content. CIKM, 12 (October – November).\n",
    "https://www.michelecoscia.com/?page_id=1032\n",
    "\n",
    "-->\n",
    "\n",
    "Open Jupyter and start editing this notebook `exam-2021-11-12.ipynb`\n"
   ]
  },
  {
   "cell_type": "markdown",
   "metadata": {},
   "source": [
    "## Attacks during elections\n",
    "\n",
    "In the file [Dataset_HighProfileCriminalViolence.tab](Dataset_HighProfileCriminalViolence.tab)\n",
    "are listed the number of attacks occurred to elected officials in Mexico from years 2007 to 2012. Focus only on columns `cve_inegi`, `state`, `year`,  `aggr_sum`, `elect_local`:"
   ]
  },
  {
   "cell_type": "code",
   "execution_count": null,
   "metadata": {
    "scrolled": false
   },
   "outputs": [],
   "source": []
  },
  {
   "cell_type": "markdown",
   "metadata": {},
   "source": [
    "* Municipalities where the attack occurred are identified by a 5 digits `cve_inegi` code: first two digits indicate the state, 3 last ones the town. **NOTE**: first file entries only have 4 digits as the leading zero is implied, take care of this case\n",
    "* `aggr_sum`: number of attacks occurred in a particular municipality / year.\n",
    "* `elect_local`: `1.0` if a **local** election occurred in the year of the attack (ignore other `elect_*`)"
   ]
  },
  {
   "cell_type": "markdown",
   "metadata": {},
   "source": [
    "## load_mexico\n",
    "\n",
    "Extract Mexican state codes, names, the counts of attacks, and the years when **local** elections occurred, and RETURN a dictionary of dictionaries mapping **two digit** state codes **as strings** to the extracted info.\n",
    "\n",
    "* use `csv.DictReader` with `delimiter='\\t'` and `utf8` encoding (municipalities will look weird but we don't use them)\n",
    "* use exactly 6 cells for `attacks` lists: assume all were carried out between `2007`and `2012` included\n",
    "* **DO NOT** assume the years in rows repeat with a pattern, for example municipality `21132` has two successive 2012 years!"
   ]
  },
  {
   "cell_type": "code",
   "execution_count": 1,
   "metadata": {
    "scrolled": false
   },
   "outputs": [],
   "source": [
    "import csv\n",
    "from pprint import pprint\n",
    "\n",
    "def load(filename):\n",
    "    \n",
    "    # I declare the variables that I need to return the correct dictionary\n",
    "    \n",
    "    ret = {}\n",
    "    id_municipality = ''\n",
    "    \n",
    "    # I open the file as f\n",
    "    \n",
    "    with open(filename, encoding='utf-8', newline='') as f:\n",
    "        \n",
    "        # I create a new variable and I assign it a csv DictReader with delimiter='\\t' and utf8 encoding\n",
    "        \n",
    "        my_reader = csv.DictReader(f, delimiter='\\t')  \n",
    "        \n",
    "        # I add into the dictionary the codes of each municipality\n",
    "        \n",
    "        for row in my_reader:\n",
    "            \n",
    "            # pprint(row)\n",
    "            \n",
    "            if len(row['cve_inegi']) == 4:\n",
    "                id_municipality = \"0\" + row['cve_inegi'][0:1]              \n",
    "            else:\n",
    "                id_municipality = row['cve_inegi'][0:2]\n",
    "                \n",
    "            # if id_municipality is already in ret, it updates the values\n",
    "            # else, id_municipality is added in ret\n",
    "            \n",
    "            if id_municipality in ret:\n",
    "                if row['elect_local'] == '1.0' and ret[id_municipality]['local_election_years'].count(int(row['year'])) < 1:\n",
    "                    ret[id_municipality]['local_election_years'].append(int(row['year']))\n",
    "                \n",
    "                #DAV STYLE: IF WALLS ARE BAD: YOU CAN DO BETTER THAN THIS .....                 \n",
    "                if row['year'] == '2007':\n",
    "                    ret[id_municipality]['attacks'][0] += int(row['aggr_sum'])\n",
    "                if row['year'] == '2008':\n",
    "                    ret[id_municipality]['attacks'][1] += int(row['aggr_sum'])\n",
    "                if row['year'] == '2009':\n",
    "                    ret[id_municipality]['attacks'][2] += int(row['aggr_sum'])\n",
    "                if row['year'] == '2010':\n",
    "                    ret[id_municipality]['attacks'][3] += int(row['aggr_sum'])\n",
    "                if row['year'] == '2011':\n",
    "                    ret[id_municipality]['attacks'][4] += int(row['aggr_sum'])\n",
    "                if row['year'] == '2012':\n",
    "                    ret[id_municipality]['attacks'][5] += int(row['aggr_sum'])\n",
    "            else:\n",
    "                ret[id_municipality] = {\n",
    "                    'attacks': [0, 0, 0, 0, 0, 0],\n",
    "                    'local_election_years': [],\n",
    "                    'state_code': id_municipality,\n",
    "                    'state_name': row['state'],\n",
    "                }\n",
    "                \n",
    "        for entities in ret:\n",
    "            ret[entities]['local_election_years'] = sorted(ret[entities]['local_election_years'])\n",
    "    return ret\n",
    "\n",
    "mexico_db = load('Dataset_HighProfileCriminalViolence.tab')\n",
    "# mexico_db\n"
   ]
  },
  {
   "cell_type": "markdown",
   "metadata": {},
   "source": [
    "Complete expected output can be found in [expected_mexico_db.py](expected_mexico_db.py)"
   ]
  },
  {
   "cell_type": "code",
   "execution_count": null,
   "metadata": {},
   "outputs": [],
   "source": []
  },
  {
   "cell_type": "code",
   "execution_count": 2,
   "metadata": {},
   "outputs": [],
   "source": [
    "# TESTING\n",
    "from pprint import pformat; from expected_mexico_db import expected_mexico_db\n",
    "for sid in expected_mexico_db.keys():\n",
    "    if sid not in mexico_db: print('\\nERROR: MISSING state', sid); break    \n",
    "    for k in expected_mexico_db[sid]:\n",
    "        if k not in mexico_db[sid]:\n",
    "            print('\\nERROR at state', sid,'\\n\\n   MISSING key:', k); break    \n",
    "        if expected_mexico_db[sid][k] != mexico_db[sid][k]:\n",
    "            print('\\nERROR at state', sid, 'key:',k)\n",
    "            print('  ACTUAL:\\n', pformat(mexico_db[sid][k]))\n",
    "            print('  EXPECTED:\\n', pformat(expected_mexico_db[sid][k]))\n",
    "            break\n",
    "if len(mexico_db) > len(expected_mexico_db):\n",
    "    print('ERROR! There are more states than expected!')\n",
    "    print('  ACTUAL:\\n', len(mexico_db))\n",
    "    print('  EXPECTED:\\n', len(expected_mexico_db))"
   ]
  },
  {
   "cell_type": "markdown",
   "metadata": {},
   "source": [
    "## show_attacks\n",
    "\n",
    "Given a `state_code` and , display a chart of the attacks count over the years. \n",
    "\n",
    "- normalize the height so to have all charts as high as the maximum possible attack count in the db\n",
    "- show vertical dashed lines in proximity of election years (use `linestyle='dashed'`), using the same color\n",
    "- you are allowed to use constants for years"
   ]
  },
  {
   "cell_type": "code",
   "execution_count": 3,
   "metadata": {},
   "outputs": [
    {
     "name": "stdout",
     "output_type": "stream",
     "text": [
      "[4, 11, 11, 9, 3, 10]\n"
     ]
    },
    {
     "data": {
      "image/png": "[encoded data removed]",
      "text/plain": [
       "<Figure size 216x216 with 1 Axes>"
      ]
     },
     "metadata": {
      "needs_background": "light"
     },
     "output_type": "display_data"
    }
   ],
   "source": [
    "%matplotlib inline\n",
    "import matplotlib.pyplot as plt\n",
    "\n",
    "def show_attacks(state_code, mexdb):\n",
    "    \n",
    "    maximum_value = 0\n",
    "    \n",
    "    for rows in mexdb:\n",
    "        for elem in mexdb[rows]['attacks']:\n",
    "            if elem > maximum_value:\n",
    "                maximum_value = elem\n",
    "                \n",
    "    xs = ['2007', '2008', '2009', '2010', '2011', '2012']\n",
    "    ys = mexdb[state_code]['attacks']\n",
    "    # ys = [maximum_value]\n",
    "    \n",
    "    fig = plt.figure(figsize=(3, 3))\n",
    "    \n",
    "    pprint(mexdb[state_code]['attacks'])\n",
    "    \n",
    "    plt.title(\"Attacks per year in\" + \" \" +mexico_db['12']['state_name'])\n",
    "    plt.plot(xs, ys)\n",
    "\n",
    "show_attacks('12', mexico_db)  # Guerrero"
   ]
  },
  {
   "cell_type": "code",
   "execution_count": null,
   "metadata": {},
   "outputs": [],
   "source": []
  },
  {
   "cell_type": "code",
   "execution_count": 4,
   "metadata": {},
   "outputs": [
    {
     "name": "stdout",
     "output_type": "stream",
     "text": [
      "[0, 10, 10, 5, 39, 5]\n"
     ]
    },
    {
     "data": {
      "image/png": "[encoded data removed]",
      "text/plain": [
       "<Figure size 216x216 with 1 Axes>"
      ]
     },
     "metadata": {
      "needs_background": "light"
     },
     "output_type": "display_data"
    }
   ],
   "source": [
    "show_attacks('16', mexico_db)   # Michoacan"
   ]
  },
  {
   "cell_type": "markdown",
   "metadata": {},
   "source": [
    "## Cartels\n",
    "\n",
    "In the file [CosciaRios2012_DataBase.csv](CosciaRios2012_DataBase.csv) are listed attacks performed by  criminal organizations (cartels) in various years. For each row, the columns from 3-12 have a `1` if the corresponding cartel named in the header was involved in the attack, and `0` otherwise. Example:"
   ]
  },
  {
   "cell_type": "code",
   "execution_count": null,
   "metadata": {},
   "outputs": [],
   "source": []
  },
  {
   "cell_type": "markdown",
   "metadata": {},
   "source": [
    "Write a function which given a `filename` and a `year`, processes the dataset and RETURN a dictionary mapping cartel names to a list of **sorted** states (no duplicates) where the cartel performed attacks in the given `year`. \n",
    "\n",
    "- use a `csv.reader` with `utf8` encoding\n",
    "- pick state code from `State` column and state names from previous `mexico_db` (you only need names) - if missing put state code (i.e. `09`)\n",
    "- **NOTE**: `Sinaloa` is a special case, since it is both a state and a cartel."
   ]
  },
  {
   "cell_type": "code",
   "execution_count": 5,
   "metadata": {
    "scrolled": false
   },
   "outputs": [
    {
     "name": "stdout",
     "output_type": "stream",
     "text": [
      "{'Beltran_Leyva': ['6', '17', '25', '25', '25'],\n",
      " 'Beltran_Leyva_Family': [],\n",
      " 'Familia': [],\n",
      " 'Golfo': ['4',\n",
      "           '5',\n",
      "           '5',\n",
      "           '5',\n",
      "           '8',\n",
      "           '8',\n",
      "           '8',\n",
      "           '10',\n",
      "           '15',\n",
      "           '15',\n",
      "           '15',\n",
      "           '19',\n",
      "           '19',\n",
      "           '24',\n",
      "           '28',\n",
      "           '28',\n",
      "           '28',\n",
      "           '28',\n",
      "           '28',\n",
      "           '28',\n",
      "           '28',\n",
      "           '28',\n",
      "           '28',\n",
      "           '30',\n",
      "           '30',\n",
      "           '30',\n",
      "           '30',\n",
      "           '30',\n",
      "           '30',\n",
      "           '31',\n",
      "           '31'],\n",
      " 'Juarez': ['2',\n",
      "            '5',\n",
      "            '5',\n",
      "            '5',\n",
      "            '5',\n",
      "            '5',\n",
      "            '6',\n",
      "            '8',\n",
      "            '8',\n",
      "            '10',\n",
      "            '10',\n",
      "            '10',\n",
      "            '12',\n",
      "            '14',\n",
      "            '14',\n",
      "            '25',\n",
      "            '28'],\n",
      " 'Otros': ['30'],\n",
      " 'Sinaloa': ['6',\n",
      "             '7',\n",
      "             '14',\n",
      "             '15',\n",
      "             '15',\n",
      "             '18',\n",
      "             '19',\n",
      "             '25',\n",
      "             '25',\n",
      "             '25',\n",
      "             '25',\n",
      "             '26',\n",
      "             '26',\n",
      "             '26',\n",
      "             '28'],\n",
      " 'Sinaloa_Family': ['12'],\n",
      " 'Tijuana': ['1',\n",
      "             '2',\n",
      "             '2',\n",
      "             '5',\n",
      "             '7',\n",
      "             '8',\n",
      "             '12',\n",
      "             '14',\n",
      "             '14',\n",
      "             '15',\n",
      "             '16',\n",
      "             '19',\n",
      "             '21',\n",
      "             '25',\n",
      "             '25',\n",
      "             '25',\n",
      "             '26'],\n",
      " 'Zetas': ['4',\n",
      "           '11',\n",
      "           '11',\n",
      "           '11',\n",
      "           '14',\n",
      "           '15',\n",
      "           '19',\n",
      "           '19',\n",
      "           '19',\n",
      "           '19',\n",
      "           '25',\n",
      "           '25',\n",
      "           '28',\n",
      "           '28',\n",
      "           '28',\n",
      "           '28',\n",
      "           '30',\n",
      "           '30',\n",
      "           '30',\n",
      "           '31',\n",
      "           '31']}\n"
     ]
    },
    {
     "ename": "AssertionError",
     "evalue": "",
     "output_type": "error",
     "traceback": [
      "\u001b[0;31m---------------------------------------------------------------------------\u001b[0m",
      "\u001b[0;31mAssertionError\u001b[0m                            Traceback (most recent call last)",
      "\u001b[0;32m/tmp/ipykernel_29874/169349211.py\u001b[0m in \u001b[0;36m<module>\u001b[0;34m\u001b[0m\n\u001b[1;32m     53\u001b[0m \u001b[0;34m\u001b[0m\u001b[0m\n\u001b[1;32m     54\u001b[0m \u001b[0mcartels2003\u001b[0m \u001b[0;34m=\u001b[0m \u001b[0mcartels\u001b[0m\u001b[0;34m(\u001b[0m\u001b[0;34m'CosciaRios2012_DataBase.csv'\u001b[0m\u001b[0;34m,\u001b[0m \u001b[0mmexico_db\u001b[0m\u001b[0;34m,\u001b[0m \u001b[0;36m2003\u001b[0m\u001b[0;34m)\u001b[0m\u001b[0;34m\u001b[0m\u001b[0;34m\u001b[0m\u001b[0m\n\u001b[0;32m---> 55\u001b[0;31m \u001b[0;32massert\u001b[0m \u001b[0mcartels2003\u001b[0m\u001b[0;34m[\u001b[0m\u001b[0;34m'Juarez'\u001b[0m\u001b[0;34m]\u001b[0m \u001b[0;34m==\u001b[0m \u001b[0;34m[\u001b[0m\u001b[0;34m'Durango'\u001b[0m\u001b[0;34m,\u001b[0m \u001b[0;34m'Guerrero'\u001b[0m\u001b[0;34m,\u001b[0m \u001b[0;34m'Jalisco'\u001b[0m\u001b[0;34m,\u001b[0m \u001b[0;34m'Sinaloa'\u001b[0m\u001b[0;34m,\u001b[0m \u001b[0;34m'Tamaulipas'\u001b[0m\u001b[0;34m]\u001b[0m\u001b[0;34m\u001b[0m\u001b[0;34m\u001b[0m\u001b[0m\n\u001b[0m\u001b[1;32m     56\u001b[0m \u001b[0;32massert\u001b[0m \u001b[0mcartels2003\u001b[0m\u001b[0;34m[\u001b[0m\u001b[0;34m'Familia'\u001b[0m\u001b[0;34m]\u001b[0m \u001b[0;34m==\u001b[0m \u001b[0;34m[\u001b[0m\u001b[0;34m]\u001b[0m\u001b[0;34m\u001b[0m\u001b[0;34m\u001b[0m\u001b[0m\n\u001b[1;32m     57\u001b[0m \u001b[0;32massert\u001b[0m \u001b[0mcartels2003\u001b[0m\u001b[0;34m[\u001b[0m\u001b[0;34m'Sinaloa'\u001b[0m\u001b[0;34m]\u001b[0m \u001b[0;34m==\u001b[0m \u001b[0;34m[\u001b[0m\u001b[0;34m'Jalisco'\u001b[0m\u001b[0;34m,\u001b[0m \u001b[0;34m'Mexico'\u001b[0m\u001b[0;34m,\u001b[0m \u001b[0;34m'Nayarit'\u001b[0m\u001b[0;34m,\u001b[0m \u001b[0;34m'Nuevo Leon'\u001b[0m\u001b[0;34m,\u001b[0m \u001b[0;34m'Sinaloa'\u001b[0m\u001b[0;34m,\u001b[0m \u001b[0;34m'Sonora'\u001b[0m\u001b[0;34m,\u001b[0m \u001b[0;34m'Tamaulipas'\u001b[0m\u001b[0;34m]\u001b[0m\u001b[0;34m\u001b[0m\u001b[0;34m\u001b[0m\u001b[0m\n",
      "\u001b[0;31mAssertionError\u001b[0m: "
     ]
    }
   ],
   "source": [
    "import csv\n",
    "from pprint import pprint\n",
    "\n",
    "def cartels(filename, mexdb, year):\n",
    "    \n",
    "    #DAV CODE != DATA\n",
    "    #    PLEASE AVOID LISTING CONSTANTS IN CODE UNLESS EXPLICITLY ALLOWED TO DO SO\n",
    "    ret_cartels = {\n",
    "        'Beltran_Leyva': [],\n",
    "        'Beltran_Leyva_Family': [],\n",
    "        'Familia': [],\n",
    "        'Golfo': [],\n",
    "        'Juarez': [],\n",
    "        'Sinaloa': [],\n",
    "        'Sinaloa_Family': [],\n",
    "        'Otros': [],\n",
    "        'Tijuana': [],\n",
    "        'Zetas': []\n",
    "    }\n",
    "    \n",
    "    with open(filename, encoding='utf-8', newline='') as f:\n",
    "        my_reader = csv.reader(f, delimiter=',')\n",
    "        \n",
    "        for row in my_reader:\n",
    "            # pprint(row)\n",
    "            if row[2] == str(year):\n",
    "                \n",
    "                \n",
    "                # In my mind this was a C switch/case. Should have more time to find\n",
    "                # a more pythonic way to write that.\n",
    "                \n",
    "                #DAV: - IN MY MIND THIS IS A HORROR \n",
    "                #\n",
    "                #     - YOU NEEDED A LOOP! ALWAYS AVOID CONSTANTS IF YOU CAN\n",
    "                #     - DOESN'T FIX THE 0 CODES\n",
    "                #     - DOESN'T APPEND STATE NAMES\n",
    "                #     - DOESN'T CHECK FOR DUPLICATES\n",
    "                #     - DOESN'T SORT\n",
    "                \n",
    "                if row[3] == '1':\n",
    "                    ret_cartels['Beltran_Leyva'].append(row[1])\n",
    "                if row[4] == '1':\n",
    "                    ret_cartels['Beltran_Leyva_Family'].append(row[1])\n",
    "                if row[5] == '1':\n",
    "                    ret_cartels['Familia'].append(row[1])\n",
    "                if row[6] == '1':\n",
    "                    ret_cartels['Golfo'].append(row[1])\n",
    "                if row[7] == '1':\n",
    "                    ret_cartels['Juarez'].append(row[1])\n",
    "                if row[8] == '1':\n",
    "                    ret_cartels['Sinaloa'].append(row[1])\n",
    "                if row[9] == '1':\n",
    "                    ret_cartels['Sinaloa_Family'].append(row[1])\n",
    "                if row[10] == '1':\n",
    "                    ret_cartels['Tijuana'].append(row[1])\n",
    "                if row[11] == '1':\n",
    "                    ret_cartels['Zetas'].append(row[1])\n",
    "                if row[12] == '1':\n",
    "                    ret_cartels['Otros'].append(row[1])\n",
    "                    \n",
    "                \n",
    "    pprint(ret_cartels)\n",
    "\n",
    "    return ret_cartels\n",
    "                \n",
    "    \n",
    "cartels2003 = cartels('CosciaRios2012_DataBase.csv', mexico_db, 2003)\n",
    "assert cartels2003['Juarez'] == ['Durango', 'Guerrero', 'Jalisco', 'Sinaloa', 'Tamaulipas']\n",
    "assert cartels2003['Familia'] == []\n",
    "assert cartels2003['Sinaloa'] == ['Jalisco', 'Mexico', 'Nayarit', 'Nuevo Leon', 'Sinaloa', 'Sonora', 'Tamaulipas']\n",
    "from pprint import pprint\n",
    "pprint(cartels2003, width=120)"
   ]
  },
  {
   "cell_type": "code",
   "execution_count": 6,
   "metadata": {
    "nbsphinx": "hidden"
   },
   "outputs": [
    {
     "ename": "AssertionError",
     "evalue": "",
     "output_type": "error",
     "traceback": [
      "\u001b[0;31m---------------------------------------------------------------------------\u001b[0m",
      "\u001b[0;31mAssertionError\u001b[0m                            Traceback (most recent call last)",
      "\u001b[0;32m/tmp/ipykernel_29874/2823136613.py\u001b[0m in \u001b[0;36m<module>\u001b[0;34m\u001b[0m\n\u001b[1;32m     13\u001b[0m }\n\u001b[1;32m     14\u001b[0m \u001b[0;34m\u001b[0m\u001b[0m\n\u001b[0;32m---> 15\u001b[0;31m \u001b[0;32massert\u001b[0m \u001b[0mcartels2003\u001b[0m \u001b[0;34m==\u001b[0m \u001b[0mexpected2003\u001b[0m\u001b[0;34m\u001b[0m\u001b[0;34m\u001b[0m\u001b[0m\n\u001b[0m\u001b[1;32m     16\u001b[0m \u001b[0;34m\u001b[0m\u001b[0m\n\u001b[1;32m     17\u001b[0m expected1999 = {'Beltran_Leyva': [],\n",
      "\u001b[0;31mAssertionError\u001b[0m: "
     ]
    }
   ],
   "source": [
    "# further tests\n",
    "expected2003 = {\n",
    " 'Beltran_Leyva': ['Colima', 'Morelos', 'Sinaloa'],\n",
    " 'Beltran_Leyva_Family':[],\n",
    " 'Familia': [],\n",
    " 'Golfo':   ['Campeche', 'Chihuahua', 'Coahuila', 'Durango', 'Mexico', 'Nuevo Leon', 'San Luis Potosi', 'Tamaulipas', 'Veracruz', 'Yucatan'],\n",
    " 'Juarez':  ['Baja California', 'Chihuahua', 'Coahuila', 'Colima', 'Durango', 'Guerrero', 'Jalisco', 'Sinaloa', 'Tamaulipas'],\n",
    " 'Otros':   ['Veracruz'],\n",
    " 'Sinaloa': ['Chiapas', 'Colima', 'Jalisco', 'Mexico', 'Nayarit', 'Nuevo Leon', 'Sinaloa', 'Sonora', 'Tamaulipas'],\n",
    " 'Sinaloa_Family': ['Guerrero'],\n",
    " 'Tijuana': ['Aguascalientes', 'Baja California', 'Chiapas', 'Chihuahua', 'Coahuila', 'Guerrero', 'Jalisco', 'Mexico', 'Michoacan', 'Nuevo Leon', 'Puebla', 'Sinaloa', 'Sonora'],\n",
    " 'Zetas':   ['Campeche', 'Guanajuato', 'Jalisco', 'Mexico', 'Nuevo Leon', 'Sinaloa', 'Tamaulipas', 'Veracruz', 'Yucatan']\n",
    "}\n",
    "\n",
    "assert cartels2003 == expected2003\n",
    "\n",
    "expected1999 = {'Beltran_Leyva': [],\n",
    " 'Beltran_Leyva_Family': [],\n",
    " 'Familia': [],\n",
    " 'Golfo':   ['Baja California', 'Guanajuato', 'Nuevo Leon', 'Puebla'],\n",
    " 'Juarez':  ['Baja California', 'Chihuahua', 'Durango', 'Tamaulipas', 'Veracruz'],\n",
    " 'Sinaloa': ['Jalisco', 'Veracruz'],\n",
    " 'Sinaloa_Family': [],\n",
    " 'Tijuana': ['Baja California', 'Campeche', 'Coahuila', 'Nuevo Leon', 'Sonora', 'Tamaulipas', 'Yucatan'],\n",
    " 'Zetas':   ['Baja California', 'Mexico', 'Morelos', 'Sinaloa', 'Sonora'],\n",
    " 'Otros':   []}\n",
    "assert cartels('CosciaRios2012_DataBase.csv', mexico_db, 1999) == expected1999"
   ]
  },
  {
   "cell_type": "code",
   "execution_count": 11,
   "metadata": {},
   "outputs": [],
   "source": [
    "#cartels('CosciaRios2012_DataBase.csv', mexico_db, 2004)  "
   ]
  },
  {
   "cell_type": "code",
   "execution_count": null,
   "metadata": {},
   "outputs": [],
   "source": []
  }
 ],
 "metadata": {
  "celltoolbar": "Edit Metadata",
  "kernelspec": {
   "display_name": "Python 3 (ipykernel)",
   "language": "python",
   "name": "python3"
  },
  "language_info": {
   "codemirror_mode": {
    "name": "ipython",
    "version": 3
   },
   "file_extension": ".py",
   "mimetype": "text/x-python",
   "name": "python",
   "nbconvert_exporter": "python",
   "pygments_lexer": "ipython3",
   "version": "3.7.10"
  },
  "toc": {
   "base_numbering": 1,
   "nav_menu": {},
   "number_sections": false,
   "sideBar": true,
   "skip_h1_title": false,
   "title_cell": "Table of Contents",
   "title_sidebar": "Contents",
   "toc_cell": false,
   "toc_position": {},
   "toc_section_display": true,
   "toc_window_display": true
  }
 },
 "nbformat": 4,
 "nbformat_minor": 1
}
